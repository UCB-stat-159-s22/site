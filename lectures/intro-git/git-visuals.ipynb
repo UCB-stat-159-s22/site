{
 "cells": [
  {
   "cell_type": "markdown",
   "id": "b132a868-ade8-4cc0-a215-f03315d6dfed",
   "metadata": {},
   "source": [
    "# Git Visuals\n",
    "\n",
    "## A tale of bubbles, arrows, post-its and stickers\n",
    "\n",
    "Or, an illustration of key concepts in a daily workflow. \n",
    "\n",
    "This is a companion notebook with code to follow [the visuals of this presentation](https://docs.google.com/presentation/d/1YlM3boYLE8DwbxGNO3ZVVt3e9gEoBgD1uc9RtItUYCU/edit?usp=sharing)."
   ]
  },
  {
   "cell_type": "markdown",
   "id": "6f2a86f1-30d8-4d97-82f1-db6f92eba037",
   "metadata": {},
   "source": [
    "## Initialization\n",
    "\n",
    "![image.png](images/git-visuals/init.png)"
   ]
  },
  {
   "cell_type": "code",
   "execution_count": 1,
   "id": "ca013954-fd83-4d33-b55c-1d4291f3d452",
   "metadata": {},
   "outputs": [
    {
     "name": "stdout",
     "output_type": "stream",
     "text": [
      "Initialized empty Git repository in /Users/fperez/teach/stat159/2022sp/site/lectures/intro-git/git-visuals-tmp/.git/\n",
      "[main (root-commit) cab4518] a0: first commit\n",
      " 1 file changed, 1 insertion(+)\n",
      " create mode 100644 file.md\n",
      "\n",
      "Git Log:\n",
      "* cab4518 a0: first commit (0 seconds ago)  (HEAD -> main) [Fernando Perez]"
     ]
    }
   ],
   "source": [
    "%%bash\n",
    "rm -rf git-visuals-tmp\n",
    "mkdir -p git-visuals-tmp\n",
    "cd git-visuals-tmp\n",
    "\n",
    "git init\n",
    "\n",
    "echo \"first file\" > file.md\n",
    "git add file.md\n",
    "git commit -m\"a0: first commit\"\n",
    "\n",
    "echo\n",
    "echo \"Git Log:\"\n",
    "git slog2"
   ]
  },
  {
   "cell_type": "markdown",
   "id": "151e9a51-ea9d-4b50-9f04-46fd53f7b066",
   "metadata": {},
   "source": [
    "## Next commit\n",
    "\n",
    "![image.png](images/git-visuals/commit-1.png)"
   ]
  },
  {
   "cell_type": "code",
   "execution_count": 2,
   "id": "a809b6fa-26b5-4ac0-88ca-fa17415c72aa",
   "metadata": {},
   "outputs": [
    {
     "name": "stdout",
     "output_type": "stream",
     "text": [
      "[main 73d141a] b1: some new ideas\n",
      " 1 file changed, 1 insertion(+)\n",
      "\n",
      "Git Log:\n",
      "* 73d141a b1: some new ideas (0 seconds ago)  (HEAD -> main) [Fernando Perez]\n",
      "* cab4518 a0: first commit (1 second ago)  [Fernando Perez]"
     ]
    }
   ],
   "source": [
    "%%bash\n",
    "cd git-visuals-tmp\n",
    "\n",
    "echo \"more work\" >> file.md\n",
    "git commit -am\"b1: some new ideas\"\n",
    "\n",
    "echo\n",
    "echo \"Git Log:\"\n",
    "git slog2"
   ]
  },
  {
   "cell_type": "markdown",
   "id": "66a7e3c0-731e-440e-bf39-c96b91d17527",
   "metadata": {},
   "source": [
    "## Introducing tags\n",
    "\n",
    "![image.png](images/git-visuals/tags.png)"
   ]
  },
  {
   "cell_type": "code",
   "execution_count": 3,
   "id": "b5a83359-bf63-472c-b87f-044f898040cd",
   "metadata": {},
   "outputs": [
    {
     "name": "stdout",
     "output_type": "stream",
     "text": [
      "\n",
      "Git Log:\n",
      "* 73d141a b1: some new ideas (0 seconds ago)  (HEAD -> main, tag: ver0) [Fernando Perez]\n",
      "* cab4518 a0: first commit (1 second ago)  [Fernando Perez]"
     ]
    }
   ],
   "source": [
    "%%bash\n",
    "cd git-visuals-tmp\n",
    "\n",
    "git tag -a ver0 -m\"Release version 0\"\n",
    "\n",
    "echo\n",
    "echo \"Git Log:\"\n",
    "git slog2"
   ]
  },
  {
   "cell_type": "markdown",
   "id": "8e2dd651-d868-41b7-977d-b2661e6f480c",
   "metadata": {},
   "source": [
    "## New branches\n",
    "\n",
    "![image.png](images/git-visuals/branch.png)"
   ]
  },
  {
   "cell_type": "code",
   "execution_count": 4,
   "id": "e99c202b-b8e5-40e0-a1d4-ce2a83a83388",
   "metadata": {},
   "outputs": [
    {
     "name": "stderr",
     "output_type": "stream",
     "text": [
      "Switched to a new branch 'dev'\n"
     ]
    },
    {
     "name": "stdout",
     "output_type": "stream",
     "text": [
      "\n",
      "Git Log:\n",
      "* 73d141a b1: some new ideas (0 seconds ago)  (HEAD -> dev, tag: ver0, main) [Fernando Perez]\n",
      "* cab4518 a0: first commit (1 second ago)  [Fernando Perez]"
     ]
    }
   ],
   "source": [
    "%%bash\n",
    "cd git-visuals-tmp\n",
    "\n",
    "git switch -c dev\n",
    "\n",
    "echo\n",
    "echo \"Git Log:\"\n",
    "git slog2"
   ]
  },
  {
   "cell_type": "markdown",
   "id": "56a112fa-fc92-4d5a-a39a-e104cce9b266",
   "metadata": {},
   "source": [
    "## Parallel development in branches\n",
    "\n",
    "![image.png](images/git-visuals/branch-par.png)"
   ]
  },
  {
   "cell_type": "code",
   "execution_count": 5,
   "id": "7b421e06-2268-43ea-99c1-5d5663cc4cc6",
   "metadata": {},
   "outputs": [
    {
     "name": "stdout",
     "output_type": "stream",
     "text": [
      "[dev 6e0ee08] c2: a new line of development!\n",
      " 1 file changed, 1 insertion(+)\n",
      " create mode 100644 file2.md\n",
      "\n",
      "Git Log:\n",
      "* 6e0ee08 c2: a new line of development! (0 seconds ago)  (HEAD -> dev) [Fernando Perez]\n",
      "* 73d141a b1: some new ideas (0 seconds ago)  (tag: ver0, main) [Fernando Perez]\n",
      "* cab4518 a0: first commit (1 second ago)  [Fernando Perez]"
     ]
    }
   ],
   "source": [
    "%%bash\n",
    "cd git-visuals-tmp\n",
    "\n",
    "echo \"new development work \" > file2.md\n",
    "git add file2.md\n",
    "git commit -am\"c2: a new line of development!\"\n",
    "\n",
    "echo\n",
    "echo \"Git Log:\"\n",
    "git slog2"
   ]
  },
  {
   "cell_type": "markdown",
   "id": "32376785-124c-40b5-a334-187f1fa2faaa",
   "metadata": {},
   "source": [
    "## Back to the main branch\n",
    "\n",
    "![image.png](images/git-visuals/branch-main.png)"
   ]
  },
  {
   "cell_type": "code",
   "execution_count": 6,
   "id": "33c73357-a182-4db7-9e7a-040edecbf9de",
   "metadata": {},
   "outputs": [
    {
     "name": "stderr",
     "output_type": "stream",
     "text": [
      "Switched to branch 'main'\n"
     ]
    },
    {
     "name": "stdout",
     "output_type": "stream",
     "text": [
      "\n",
      "Git Log:\n",
      "* 6e0ee08 c2: a new line of development! (0 seconds ago)  (dev) [Fernando Perez]\n",
      "* 73d141a b1: some new ideas (0 seconds ago)  (HEAD -> main, tag: ver0) [Fernando Perez]\n",
      "* cab4518 a0: first commit (1 second ago)  [Fernando Perez]"
     ]
    }
   ],
   "source": [
    "%%bash\n",
    "cd git-visuals-tmp\n",
    "\n",
    "git switch main\n",
    "\n",
    "echo\n",
    "echo \"Git Log:\"\n",
    "git slog2 --all"
   ]
  },
  {
   "cell_type": "markdown",
   "id": "908e3c01-2167-4001-96e8-5d720231fac0",
   "metadata": {},
   "source": [
    "## Progress on the main branch\n",
    "\n",
    "![image.png](images/git-visuals/branch-main-adv.png)"
   ]
  },
  {
   "cell_type": "code",
   "execution_count": 7,
   "id": "3b989518-c4ab-48d7-9502-38ea2797b8a9",
   "metadata": {},
   "outputs": [
    {
     "name": "stdout",
     "output_type": "stream",
     "text": [
      "[main 5581513] d3: ontinued main work\n",
      " 1 file changed, 1 insertion(+)\n",
      "\n",
      "Git Log:\n",
      "* 6e0ee08 c2: a new line of development! (0 seconds ago)  (dev) [Fernando Perez]\n",
      "| * 5581513 d3: ontinued main work (0 seconds ago)  (HEAD -> main) [Fernando Perez]\n",
      "|/  \n",
      "* 73d141a b1: some new ideas (0 seconds ago)  (tag: ver0) [Fernando Perez]\n",
      "* cab4518 a0: first commit (1 second ago)  [Fernando Perez]"
     ]
    }
   ],
   "source": [
    "%%bash\n",
    "cd git-visuals-tmp\n",
    "\n",
    "echo \"More work on main line\" >> file.md\n",
    "git commit -am\"d3: ontinued main work\"\n",
    "\n",
    "echo\n",
    "echo \"Git Log:\"\n",
    "git slog2 --all"
   ]
  },
  {
   "cell_type": "markdown",
   "id": "bdef8d62-3bd6-493c-bee0-d24b0a693d1d",
   "metadata": {},
   "source": [
    "## Continued work on the main branch\n",
    "\n",
    "![image.png](images/git-visuals/branch-main-adv2.png)"
   ]
  },
  {
   "cell_type": "code",
   "execution_count": 8,
   "id": "340496c5-1335-454f-966c-c44d2f953cec",
   "metadata": {},
   "outputs": [
    {
     "name": "stdout",
     "output_type": "stream",
     "text": [
      "[main 56cad78] e4: main work continues\n",
      " 1 file changed, 1 insertion(+)\n",
      "\n",
      "Git Log:\n",
      "* 6e0ee08 c2: a new line of development! (0 seconds ago)  (dev) [Fernando Perez]\n",
      "| * 56cad78 e4: main work continues (0 seconds ago)  (HEAD -> main) [Fernando Perez]\n",
      "| * 5581513 d3: ontinued main work (0 seconds ago)  [Fernando Perez]\n",
      "|/  \n",
      "* 73d141a b1: some new ideas (0 seconds ago)  (tag: ver0) [Fernando Perez]\n",
      "* cab4518 a0: first commit (1 second ago)  [Fernando Perez]"
     ]
    }
   ],
   "source": [
    "%%bash\n",
    "cd git-visuals-tmp\n",
    "\n",
    "echo \"And yet more work on main line\" >> file.md\n",
    "git commit -am\"e4: main work continues\"\n",
    "\n",
    "echo\n",
    "echo \"Git Log:\"\n",
    "git slog2 --all"
   ]
  },
  {
   "cell_type": "markdown",
   "id": "b844e7ee-1b3f-4a70-bfcd-3a0c98173570",
   "metadata": {},
   "source": [
    "## Merging our two branches\n",
    "\n",
    "![image.png](images/git-visuals/merge.png)"
   ]
  },
  {
   "cell_type": "code",
   "execution_count": 9,
   "id": "ec713d0f-63d2-44e0-8037-97aaee22616a",
   "metadata": {},
   "outputs": [
    {
     "name": "stdout",
     "output_type": "stream",
     "text": [
      "Merge made by the 'ort' strategy.\n",
      " file2.md | 1 +\n",
      " 1 file changed, 1 insertion(+)\n",
      " create mode 100644 file2.md\n",
      "\n",
      "Git Log:\n",
      "*   6ea0830 f5: merging great new developments (0 seconds ago)  (HEAD -> main) [Fernando Perez]\n",
      "|\\  \n",
      "| * 6e0ee08 c2: a new line of development! (1 second ago)  (dev) [Fernando Perez]\n",
      "* | 56cad78 e4: main work continues (1 second ago)  [Fernando Perez]\n",
      "* | 5581513 d3: ontinued main work (1 second ago)  [Fernando Perez]\n",
      "|/  \n",
      "* 73d141a b1: some new ideas (1 second ago)  (tag: ver0) [Fernando Perez]\n",
      "* cab4518 a0: first commit (2 seconds ago)  [Fernando Perez]"
     ]
    }
   ],
   "source": [
    "%%bash\n",
    "cd git-visuals-tmp\n",
    "\n",
    "git merge dev -m\"f5: merging great new developments\"\n",
    "\n",
    "echo\n",
    "echo \"Git Log:\"\n",
    "git slog2"
   ]
  },
  {
   "cell_type": "markdown",
   "id": "93d2ae88-a1da-4142-8f14-c3547d383f30",
   "metadata": {},
   "source": [
    "## Cleanup after merge: delete dev branch\n",
    "\n",
    "![image.png](images/git-visuals/branch-del.png)"
   ]
  },
  {
   "cell_type": "code",
   "execution_count": 10,
   "id": "adfdc0ad-021f-4dca-b832-3f800c5bc271",
   "metadata": {},
   "outputs": [
    {
     "name": "stdout",
     "output_type": "stream",
     "text": [
      "Deleted branch dev (was 6e0ee08).\n",
      "\n",
      "Git Log:\n",
      "*   6ea0830 f5: merging great new developments (0 seconds ago)  (HEAD -> main) [Fernando Perez]\n",
      "|\\  \n",
      "| * 6e0ee08 c2: a new line of development! (1 second ago)  [Fernando Perez]\n",
      "* | 56cad78 e4: main work continues (1 second ago)  [Fernando Perez]\n",
      "* | 5581513 d3: ontinued main work (1 second ago)  [Fernando Perez]\n",
      "|/  \n",
      "* 73d141a b1: some new ideas (1 second ago)  (tag: ver0) [Fernando Perez]\n",
      "* cab4518 a0: first commit (2 seconds ago)  [Fernando Perez]"
     ]
    }
   ],
   "source": [
    "%%bash\n",
    "cd git-visuals-tmp\n",
    "\n",
    "git branch --delete dev\n",
    "\n",
    "echo\n",
    "echo \"Git Log:\"\n",
    "git slog2 --all"
   ]
  },
  {
   "cell_type": "markdown",
   "id": "e06948c8-c98d-4ce4-b748-2b43767266c6",
   "metadata": {},
   "source": [
    "## More tags\n",
    "\n",
    "![image.png](images/git-visuals/tags2.png)"
   ]
  },
  {
   "cell_type": "code",
   "execution_count": 11,
   "id": "51b68f3e-c39b-499f-a79a-c9db660bc80e",
   "metadata": {},
   "outputs": [
    {
     "name": "stdout",
     "output_type": "stream",
     "text": [
      "\n",
      "Git Log:\n",
      "*   6ea0830 f5: merging great new developments (0 seconds ago)  (HEAD -> main, tag: ver1) [Fernando Perez]\n",
      "|\\  \n",
      "| * 6e0ee08 c2: a new line of development! (1 second ago)  [Fernando Perez]\n",
      "* | 56cad78 e4: main work continues (1 second ago)  [Fernando Perez]\n",
      "* | 5581513 d3: ontinued main work (1 second ago)  [Fernando Perez]\n",
      "|/  \n",
      "* 73d141a b1: some new ideas (1 second ago)  (tag: ver0) [Fernando Perez]\n",
      "* cab4518 a0: first commit (2 seconds ago)  [Fernando Perez]"
     ]
    }
   ],
   "source": [
    "%%bash\n",
    "cd git-visuals-tmp\n",
    "\n",
    "git tag -a ver1 -m\"Releasing version 1 to the world!\"\n",
    "\n",
    "echo\n",
    "echo \"Git Log:\"\n",
    "git slog2 --all"
   ]
  },
  {
   "cell_type": "markdown",
   "id": "c1e47ba5-dbe0-421c-a71a-f24823b59eae",
   "metadata": {},
   "source": [
    "## And the git life continues...\n",
    "\n",
    "![image.png](images/git-visuals/life.png)"
   ]
  },
  {
   "cell_type": "code",
   "execution_count": 12,
   "id": "50068c1a-cacb-4b98-a516-27597e48bcb6",
   "metadata": {},
   "outputs": [
    {
     "name": "stdout",
     "output_type": "stream",
     "text": [
      "[main f582848] a6: our work marches on...\n",
      " 1 file changed, 1 insertion(+)\n",
      "\n",
      "Git Log:\n",
      "* f582848 a6: our work marches on... (0 seconds ago)  (HEAD -> main) [Fernando Perez]\n",
      "*   6ea0830 f5: merging great new developments (1 second ago)  (tag: ver1) [Fernando Perez]\n",
      "|\\  \n",
      "| * 6e0ee08 c2: a new line of development! (2 seconds ago)  [Fernando Perez]\n",
      "* | 56cad78 e4: main work continues (2 seconds ago)  [Fernando Perez]\n",
      "* | 5581513 d3: ontinued main work (2 seconds ago)  [Fernando Perez]\n",
      "|/  \n",
      "* 73d141a b1: some new ideas (2 seconds ago)  (tag: ver0) [Fernando Perez]\n",
      "* cab4518 a0: first commit (3 seconds ago)  [Fernando Perez]"
     ]
    }
   ],
   "source": [
    "%%bash\n",
    "cd git-visuals-tmp\n",
    "\n",
    "echo \"More and more work\" >> file.md\n",
    "git commit -am\"a6: our work marches on...\"\n",
    "\n",
    "echo\n",
    "echo \"Git Log:\"\n",
    "git slog2 --all"
   ]
  },
  {
   "cell_type": "markdown",
   "id": "b2ba02ff-7001-4037-9ebb-d8c078ccd156",
   "metadata": {},
   "source": [
    "A note on the order of the log above: by default, the above is ordered by the topology of the commits, not by the time they were made. We can ask git to show us the same information but sorted by the timestamps of the commits, which will match the way our diagrams were drawn. This is done by using the `--author-date-order` flag to `git log`:"
   ]
  },
  {
   "cell_type": "code",
   "execution_count": 13,
   "id": "055a4d4a-2036-406c-8a06-8611deb90cae",
   "metadata": {},
   "outputs": [
    {
     "name": "stdout",
     "output_type": "stream",
     "text": [
      "\n",
      "Git Log:\n",
      "* f582848 a6: our work marches on... (1 second ago)  (HEAD -> main) [Fernando Perez]\n",
      "*   6ea0830 f5: merging great new developments (2 seconds ago)  (tag: ver1) [Fernando Perez]\n",
      "|\\  \n",
      "* | 56cad78 e4: main work continues (3 seconds ago)  [Fernando Perez]\n",
      "| * 6e0ee08 c2: a new line of development! (3 seconds ago)  [Fernando Perez]\n",
      "* | 5581513 d3: ontinued main work (3 seconds ago)  [Fernando Perez]\n",
      "|/  \n",
      "* 73d141a b1: some new ideas (3 seconds ago)  (tag: ver0) [Fernando Perez]\n",
      "* cab4518 a0: first commit (4 seconds ago)  [Fernando Perez]"
     ]
    }
   ],
   "source": [
    "%%bash\n",
    "cd git-visuals-tmp\n",
    "\n",
    "echo\n",
    "echo \"Git Log:\"\n",
    "git slog2 --all --author-date-order"
   ]
  }
 ],
 "metadata": {
  "kernelspec": {
   "display_name": "Python 3 (ipykernel)",
   "language": "python",
   "name": "python3"
  },
  "language_info": {
   "codemirror_mode": {
    "name": "ipython",
    "version": 3
   },
   "file_extension": ".py",
   "mimetype": "text/x-python",
   "name": "python",
   "nbconvert_exporter": "python",
   "pygments_lexer": "ipython3",
   "version": "3.9.12"
  }
 },
 "nbformat": 4,
 "nbformat_minor": 5
}
