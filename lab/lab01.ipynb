{
 "cells": [
  {
   "cell_type": "markdown",
   "id": "f1fa1322-362d-4b23-bed5-97c8bcb4f06d",
   "metadata": {},
   "source": [
    "# LAB Session No1 - STAT 159/259 Collaborative and Reproducible Data Science (Spring 2022) \n",
    "> Monday 01-24-2022, 11AM-1PM & 2PM-4PM \n",
    ">\n",
    "> Instructor: [Facundo Sapienza](https://statistics.berkeley.edu/people/facu-sapienza)"
   ]
  },
  {
   "cell_type": "markdown",
   "id": "fb58517e-0dcd-45ac-878a-7757bcc00d4e",
   "metadata": {},
   "source": [
    "Welcome to Stat 159/259! This is our first lab, so for today we will focus in setting you up in Github and make some practice in Python. The menu for today is\n",
    "\n",
    "1. **Setting up GitHub Account.** If you want to learn more about how to work with GitHub and how GitHub internally works, we recommend you to take a look to [The curious coder’s guide to git](https://matthew-brett.github.io/curious-git/). After we all have a GitHub account, we will ask you to complete this [form](https://docs.google.com/forms/d/e/1FAIpQLSeWn3GLSAV4gWkMOyYiMcfN4VqUR4reUR2OOGKZWqYQoLzmnA/viewform) so we can add you to GitHub Classroom. \n",
    "\n",
    "1. **Warming up with Python.** We will follow the Python tutorial written by Jake VanderPlas, [A Whirlwind Tour of Python](https://jakevdp.github.io/WhirlwindTourOfPython).\n",
    "    \n",
    "1. **Debugging in Python/iPython.**\n",
    "    1. Debuggin with [pdb](https://docs.python.org/3/library/pdb.html) \n",
    "    1. Jupyter debugger\n",
    "    \n",
    "\n",
    "Remember we will be working in the [JupyterHub](https://stat159.datahub.berkeley.edu/hub/login?next=%2Fhub%2F) for the full course, which has the libraries and tools we will be using during the semester. Why do we use the Hub? Well, it is quite convenient since you don't need to install anything in your personal computer and you don't need to worry about having installed all the required packages with their right version. \n",
    "\n",
    "As we have already mentioned, we are going to use Python for all the projects and homeworks in this course. However, it is important to remark that many of the concepts we will see in this course apply to other programming languages too (Julia, R, C, etc). Some good reasons for working in Python include\n",
    "\n",
    "- Interpreted instead of compiled\n",
    "- Clean syntax\n",
    "- Object oriented (attributes + methods), convenient language constructs\n",
    "- Variables can access large data structures by reference, without making a copy (speed and memory efficient)."
   ]
  },
  {
   "cell_type": "markdown",
   "id": "46245c50-efbd-4983-bf60-ce6b408b3912",
   "metadata": {},
   "source": [
    "## 1. Setting up GitHub\n",
    "\n",
    "If you don't have a GitHub account yet, you can create one following this [link](http://github.com/) (please DON'T use github.berkeley.edu). You can configure your preferences by using \n",
    "\n",
    "`git config --global <setting> <option> `\n",
    "\n",
    "For example, you can configure your email and "
   ]
  },
  {
   "cell_type": "code",
   "execution_count": null,
   "id": "612567ba-ee5c-4c56-99b4-ce07312081c8",
   "metadata": {},
   "outputs": [],
   "source": [
    "!git config --global user.name \"Facu Sapienza\"\n",
    "!git config --global user.email \"fsapienza@berkeley.edu\""
   ]
  },
  {
   "cell_type": "markdown",
   "id": "9a7d62f9-67db-436b-bef6-a9b3c3b4f9cb",
   "metadata": {},
   "source": [
    "For this course, we will be using [GitHub Classroom](https://classroom.github.com). Once you all have a GitHub account created, we will add you to the repository for the course. \n",
    "\n",
    ">\n",
    "> Once you have your GitHub account, please take a few minutes to complete this [form](https://docs.google.com/forms/d/e/1FAIpQLSeWn3GLSAV4gWkMOyYiMcfN4VqUR4reUR2OOGKZWqYQoLzmnA/viewform).  \n",
    ">\n",
    "\n",
    "The way we have to authenticate push/pull from the hub is by using this [github-app-user-auth](https://github.com/yuvipanda/github-app-user-auth), a tool developed by [@yuvipanda](https://github.com/yuvipanda). Here's how you can use it.\n",
    "\n",
    "1. Go to https://github.com/apps/stat159-berkeley-datahub-access, and 'Install' the app. Give it access to whichever repositories you want to push to. You can come back and add more repos here later if you wish.\n",
    "1. Login to stat159.datahub.berkeley.edu, and open a terminal.\n",
    "1. Run github-app-user-auth on the terminal. It'll tell you to open a link in your browser, and input a 6 character code it gives you in the page opened.\n",
    "1. Once done, 'Accept' and it'll ask you if you want to authenticate.\n",
    "1. Once accepted, you're done! You can now push to the repositories you gave access to in step 1 for the next 8 hours or until your server stops from inactivity! We'll hopefully have a quick 'sign in' button at some point that can make this a bit more streamlined, but this should work nicely already."
   ]
  },
  {
   "cell_type": "markdown",
   "id": "bad4fe95-56ef-4d67-97b3-d4175373e509",
   "metadata": {},
   "source": [
    "## 2. Warming up with Python\n",
    "\n",
    "For today's session, we will follow [A Whirlwind Tour of Python](https://jakevdp.github.io/WhirlwindTourOfPython/). You can see the contents of the book online, but you can also clone the repository of the book with the following command\n",
    "\n",
    "`git clone https://github.com/jakevdp/WhirlwindTourOfPython.git`\n",
    "\n",
    "> Whenever you are doing this from the terminal or a notebook, remember to run this command from the directory you want the repository to be cloned. \n",
    "\n",
    "It is important that you are familiar with the contents of chapters 1-8, which include some introductory python syntax and data structures. If not, please take a few minutes to go thought these notebooks and get familiar with them. These concepts include:\n",
    "- Basic operations (arithmetic, comparison, assignment, ...)\n",
    "- Manipulation of simple data structures (lists, dictionaries, tuples) \n",
    "- Control flow (for loops, conditional statements)"
   ]
  },
  {
   "cell_type": "code",
   "execution_count": null,
   "id": "9932b2ef-b601-4197-bbb6-dc912d7b618b",
   "metadata": {},
   "outputs": [],
   "source": [
    "## Simple Python code examples\n",
    "\n",
    "## ...  [To do during the lab]"
   ]
  },
  {
   "cell_type": "markdown",
   "id": "159dbd54-0009-454c-8b16-e71cdc75b9f4",
   "metadata": {},
   "source": [
    "### 2.1. Functions\n",
    "\n",
    "For this part of the lecture, we recommend following Chapter 9. As we write more and more code, keeping track of what each piece is doing can became quite difficult. Functions allow us to encapsulate pieces of code that are responsible for addressing a more specific task. Then, a nice piece of code looks like different functions (sometimes concatenated one to each other) doing different tasks in order to archive a final mayor goal.\n",
    "\n",
    "Functions receive different kind of arguments. The scope of this variables is always local, meaning that the variable name is declared *just* inside the function."
   ]
  },
  {
   "cell_type": "code",
   "execution_count": null,
   "id": "efa66596-c9ef-4e67-949c-1434b219e6c4",
   "metadata": {},
   "outputs": [],
   "source": [
    "### .... [To do during the lab] Construct the following function\n",
    "\n",
    "\n",
    "from math import gcd      # we import the great common divisor function from math\n",
    "\n",
    "def get_coprimes(L, d=2):\n",
    "    \"\"\"\n",
    "    Function to extract the coprimes elements of a list with respect to some give integer\n",
    "    \n",
    "    Arguments:\n",
    "        - L: list with integers \n",
    "        - d: integer agains with the coprimality is evaluated\n",
    "        \n",
    "    Outputs:\n",
    "        - res: list of subelements of L that are coprime with d\n",
    "    \"\"\"\n",
    "    \n",
    "    res = []\n",
    "    \n",
    "    for x in L:\n",
    "        if gcd(x,d) == 1:\n",
    "            res.append(x)\n",
    "            \n",
    "    return res"
   ]
  },
  {
   "cell_type": "code",
   "execution_count": null,
   "id": "3bf93790-5d0b-417a-94e6-38ad1130b652",
   "metadata": {},
   "outputs": [
    {
     "data": {
      "text/plain": [
       "[1, 3, 5]"
      ]
     },
     "execution_count": 24,
     "metadata": {},
     "output_type": "execute_result"
    }
   ],
   "source": [
    "L0 = [1,2,3,4,5,6]\n",
    "\n",
    "get_coprimes(L0)"
   ]
  },
  {
   "cell_type": "code",
   "execution_count": null,
   "id": "3b20db33-d8a9-431a-9b67-fcfadd7516dd",
   "metadata": {},
   "outputs": [
    {
     "data": {
      "text/plain": [
       "[1, 2, 4, 5]"
      ]
     },
     "execution_count": 19,
     "metadata": {},
     "output_type": "execute_result"
    }
   ],
   "source": [
    "get_coprimes(L0, 3)"
   ]
  },
  {
   "cell_type": "markdown",
   "id": "31d60ef2-4361-406a-81e3-03cf96ec3565",
   "metadata": {},
   "source": [
    "A few comments about this last example:\n",
    "1. Suppose we want to ignore the trivial case of every number being coprimer with `1`. What can we do then? Do we add another conditional statement?\n",
    "2. What do we do if `L` has negative values?\n",
    "3. What do we do if there are values in `L` that are no integers?\n",
    "4. Can you think in ways of implementing `get_coprimes` by using a different kind of data structures?\n",
    "5. Is it possible to extent the scope of the variables inside the function (eg, to obtain the value of `res` inside `get_coprimes` outside the scope of the function)?\n",
    "\n",
    "We can solve some of these problems by hand. In the next section we will see how to add exceptions for conflictive cases.\n",
    "\n",
    "Something really useful about functions in Python is that we can add flexible arguments. These are divided into\n",
    "- Simple arguments: `*args` \n",
    "- Keyword arguments: `**kwargs`"
   ]
  },
  {
   "cell_type": "code",
   "execution_count": null,
   "id": "59c9e09c-865c-4dc9-a768-583e76596c0a",
   "metadata": {},
   "outputs": [],
   "source": [
    "def catch_all(*args, **kwargs):\n",
    "    print(\"args =\", args)\n",
    "    print(\"kwags =\", kwargs)\n",
    "    \n",
    "    if len(args) == 3:\n",
    "        print(args[1])\n",
    "    print(kwargs['b'])"
   ]
  },
  {
   "cell_type": "code",
   "execution_count": null,
   "id": "cf224a85-0a5f-4bc6-9440-91c9976e083e",
   "metadata": {},
   "outputs": [
    {
     "name": "stdout",
     "output_type": "stream",
     "text": [
      "args = (1, 2, 3)\n",
      "kwags = {'b': 1.1, 'c': 1.2}\n",
      "2\n",
      "1.1\n"
     ]
    }
   ],
   "source": [
    "catch_all(1, 2, 3, b=1.1, c=1.2)"
   ]
  },
  {
   "cell_type": "code",
   "execution_count": null,
   "id": "95ae2659-c83f-4b89-96b2-bc5f3e3418cc",
   "metadata": {},
   "outputs": [],
   "source": [
    "def sum_args(*args, **kwargs):\n",
    "    \n",
    "    res = 0\n",
    "    \n",
    "    for x in args:\n",
    "        res += x\n",
    "        \n",
    "    if \"factor\" in kwargs.keys():\n",
    "        res *= kwargs[\"factor\"]\n",
    "        \n",
    "    return res"
   ]
  },
  {
   "cell_type": "code",
   "execution_count": null,
   "id": "0fca00a6-da4e-45b6-b10b-56e3837ce64b",
   "metadata": {},
   "outputs": [
    {
     "data": {
      "text/plain": [
       "11"
      ]
     },
     "execution_count": 33,
     "metadata": {},
     "output_type": "execute_result"
    }
   ],
   "source": [
    "sum_args(1, 2, 3, 5, factor=1)"
   ]
  },
  {
   "cell_type": "markdown",
   "id": "37851130-336b-45ae-8b95-7108965d2d54",
   "metadata": {},
   "source": [
    "We can also define anonymous functions, usually referred by the symbol `lambda`. This are useful for different things (for example, we will see how useful they are when dealing with dataframes in Pandas)"
   ]
  },
  {
   "cell_type": "code",
   "execution_count": null,
   "id": "7e3d9afc-1171-4568-980c-7365e49fc5d2",
   "metadata": {},
   "outputs": [],
   "source": [
    "add_one = lambda x: x+1"
   ]
  },
  {
   "cell_type": "code",
   "execution_count": null,
   "id": "11ea1e6f-0ad0-4efd-bb97-4841080234ee",
   "metadata": {},
   "outputs": [
    {
     "data": {
      "text/plain": [
       "2.2"
      ]
     },
     "execution_count": 35,
     "metadata": {},
     "output_type": "execute_result"
    }
   ],
   "source": [
    "add_one(1.2)"
   ]
  },
  {
   "cell_type": "code",
   "execution_count": null,
   "id": "09157fdb-69e6-4ae3-82f6-9a23ae6ddaab",
   "metadata": {},
   "outputs": [
    {
     "data": {
      "text/plain": [
       "[2, 4, 6, 1, 3, 5]"
      ]
     },
     "execution_count": 36,
     "metadata": {},
     "output_type": "execute_result"
    }
   ],
   "source": [
    "sorted(L0, key = lambda x : x%2)"
   ]
  },
  {
   "cell_type": "markdown",
   "id": "7b96bbca-19a2-4f17-9f5e-6751a054d8f7",
   "metadata": {},
   "source": [
    "### 2.2. Errors and Exceptions\n",
    "\n",
    "Different kinds of errors that occur as we write code include syntax, runtime and semantic errors. Specially for runtime errors, Python give us a clue about what kind or error may happened during the execution of our code. For example,"
   ]
  },
  {
   "cell_type": "code",
   "execution_count": null,
   "id": "d6c58dc3-f9ec-4408-9034-f19dd7fed08c",
   "metadata": {},
   "outputs": [
    {
     "ename": "ZeroDivisionError",
     "evalue": "division by zero",
     "output_type": "error",
     "traceback": [
      "\u001b[0;31m---------------------------------------------------------------------------\u001b[0m",
      "\u001b[0;31mZeroDivisionError\u001b[0m                         Traceback (most recent call last)",
      "Input \u001b[0;32mIn [37]\u001b[0m, in \u001b[0;36m<module>\u001b[0;34m\u001b[0m\n\u001b[0;32m----> 1\u001b[0m \u001b[38;5;241;43m1\u001b[39;49m\u001b[43m \u001b[49m\u001b[38;5;241;43m/\u001b[39;49m\u001b[43m \u001b[49m\u001b[38;5;241;43m0\u001b[39;49m\n",
      "\u001b[0;31mZeroDivisionError\u001b[0m: division by zero"
     ]
    }
   ],
   "source": [
    "1 / 0"
   ]
  },
  {
   "cell_type": "code",
   "execution_count": null,
   "id": "76d39372-d18e-4289-b6cd-f86e85dc6eac",
   "metadata": {},
   "outputs": [
    {
     "ename": "KeyError",
     "evalue": "'c'",
     "output_type": "error",
     "traceback": [
      "\u001b[0;31m---------------------------------------------------------------------------\u001b[0m",
      "\u001b[0;31mKeyError\u001b[0m                                  Traceback (most recent call last)",
      "Input \u001b[0;32mIn [38]\u001b[0m, in \u001b[0;36m<module>\u001b[0;34m\u001b[0m\n\u001b[1;32m      1\u001b[0m my_dict \u001b[38;5;241m=\u001b[39m {\u001b[38;5;124m'\u001b[39m\u001b[38;5;124ma\u001b[39m\u001b[38;5;124m'\u001b[39m:\u001b[38;5;241m1\u001b[39m, \u001b[38;5;124m'\u001b[39m\u001b[38;5;124mb\u001b[39m\u001b[38;5;124m'\u001b[39m:\u001b[38;5;241m2\u001b[39m}\n\u001b[0;32m----> 2\u001b[0m \u001b[43mmy_dict\u001b[49m\u001b[43m[\u001b[49m\u001b[38;5;124;43m'\u001b[39;49m\u001b[38;5;124;43mc\u001b[39;49m\u001b[38;5;124;43m'\u001b[39;49m\u001b[43m]\u001b[49m\n",
      "\u001b[0;31mKeyError\u001b[0m: 'c'"
     ]
    }
   ],
   "source": [
    "my_dict = {'a':1, 'b':2}\n",
    "my_dict['c']"
   ]
  },
  {
   "cell_type": "code",
   "execution_count": null,
   "id": "72cb8f1e-1a4e-4fb5-8f1f-d7e02574f999",
   "metadata": {},
   "outputs": [
    {
     "ename": "TypeError",
     "evalue": "unsupported operand type(s) for +: 'dict' and 'dict'",
     "output_type": "error",
     "traceback": [
      "\u001b[0;31m---------------------------------------------------------------------------\u001b[0m",
      "\u001b[0;31mTypeError\u001b[0m                                 Traceback (most recent call last)",
      "Input \u001b[0;32mIn [39]\u001b[0m, in \u001b[0;36m<module>\u001b[0;34m\u001b[0m\n\u001b[0;32m----> 1\u001b[0m \u001b[43mmy_dict\u001b[49m\u001b[43m \u001b[49m\u001b[38;5;241;43m+\u001b[39;49m\u001b[43m \u001b[49m\u001b[43m{\u001b[49m\u001b[38;5;124;43m'\u001b[39;49m\u001b[38;5;124;43mc\u001b[39;49m\u001b[38;5;124;43m'\u001b[39;49m\u001b[43m:\u001b[49m\u001b[38;5;241;43m3\u001b[39;49m\u001b[43m}\u001b[49m\n",
      "\u001b[0;31mTypeError\u001b[0m: unsupported operand type(s) for +: 'dict' and 'dict'"
     ]
    }
   ],
   "source": [
    "my_dict + {'c':3}"
   ]
  },
  {
   "cell_type": "markdown",
   "id": "faa33668-a868-41e5-be18-c7ed44cf6f54",
   "metadata": {},
   "source": [
    "There are many more different kind of built-in exceptions in Python. You can find some more examples in this [link](https://docs.python.org/3/library/exceptions.html). A general `RuntimeError` is raised when the detected error doesn't fall in any of the other categories. \n",
    "\n",
    "There are different ways of dealing with runtime errors in Python, there include the \n",
    "- `try`...`except` clause\n",
    "- `raise` statement"
   ]
  },
  {
   "cell_type": "code",
   "execution_count": null,
   "id": "2bb44ad2-cae3-485d-b9a6-90e83537d73e",
   "metadata": {},
   "outputs": [],
   "source": [
    "a = 1    # numerator\n",
    "b = 0    # denominator"
   ]
  },
  {
   "cell_type": "code",
   "execution_count": null,
   "id": "ca2d920e-587d-4e9e-a0ee-45da2ddbe92d",
   "metadata": {},
   "outputs": [
    {
     "name": "stdout",
     "output_type": "stream",
     "text": [
      "I was here\n",
      "Something wrong happened\n"
     ]
    }
   ],
   "source": [
    "try:\n",
    "    print(\"I was here\")\n",
    "    a / b\n",
    "    print(\"Was I here?\")\n",
    "except: \n",
    "    print(\"Something wrong happened\")"
   ]
  },
  {
   "cell_type": "code",
   "execution_count": null,
   "id": "07074a98-ea8b-42d3-9e31-d87bb2e83d03",
   "metadata": {},
   "outputs": [
    {
     "ename": "ValueError",
     "evalue": "b must be different than zero.",
     "output_type": "error",
     "traceback": [
      "\u001b[0;31m---------------------------------------------------------------------------\u001b[0m",
      "\u001b[0;31mValueError\u001b[0m                                Traceback (most recent call last)",
      "Input \u001b[0;32mIn [42]\u001b[0m, in \u001b[0;36m<module>\u001b[0;34m\u001b[0m\n\u001b[1;32m      2\u001b[0m b \u001b[38;5;241m=\u001b[39m \u001b[38;5;241m0\u001b[39m\n\u001b[1;32m      4\u001b[0m \u001b[38;5;28;01mif\u001b[39;00m b \u001b[38;5;241m==\u001b[39m \u001b[38;5;241m0\u001b[39m:\n\u001b[0;32m----> 5\u001b[0m     \u001b[38;5;28;01mraise\u001b[39;00m \u001b[38;5;167;01mValueError\u001b[39;00m(\u001b[38;5;124m\"\u001b[39m\u001b[38;5;124mb must be different than zero.\u001b[39m\u001b[38;5;124m\"\u001b[39m)\n\u001b[1;32m      6\u001b[0m a \u001b[38;5;241m/\u001b[39m b\n",
      "\u001b[0;31mValueError\u001b[0m: b must be different than zero."
     ]
    }
   ],
   "source": [
    "a = 1\n",
    "b = 0\n",
    "\n",
    "if b == 0:\n",
    "    raise ValueError(\"b must be different than zero.\")\n",
    "a / b"
   ]
  },
  {
   "cell_type": "markdown",
   "id": "2504bdc7-37da-4bed-ae05-d3f8f4de7d10",
   "metadata": {},
   "source": [
    "In the following example, we use both `try`...`except` and `raise`, but it's not working as we may expect. Can you identify the problem?"
   ]
  },
  {
   "cell_type": "code",
   "execution_count": null,
   "id": "a03f911b-5486-484b-bd96-acbd7f2357fe",
   "metadata": {},
   "outputs": [
    {
     "name": "stdout",
     "output_type": "stream",
     "text": [
      "I was here\n",
      "Something wrong happen\n"
     ]
    }
   ],
   "source": [
    "a = 1\n",
    "b = 0\n",
    "\n",
    "try:\n",
    "    print(\"I was here\")\n",
    "    if b == 0:\n",
    "        raise ValueError(\"b must be different than zero.\")\n",
    "    a / b\n",
    "    print(\"Was I here?\")\n",
    "except: \n",
    "    print(\"Something wrong happen\")"
   ]
  },
  {
   "cell_type": "markdown",
   "id": "e8992735-a9c6-4656-81c4-f766362f33a2",
   "metadata": {},
   "source": [
    "## 3. Debugging in Jupyter \n",
    "\n",
    "Jupyter allow us to do post-mortem debugging with the `%debug` command. This is a wrapper around the basic [pdb debugger](https://docs.python.org/3/library/pdb.html) that ships with the Python language."
   ]
  },
  {
   "cell_type": "code",
   "execution_count": null,
   "id": "0afd869d-0ab6-4f78-9be0-7a722285d309",
   "metadata": {},
   "outputs": [],
   "source": [
    "def inverse(x):\n",
    "    return 1/x"
   ]
  },
  {
   "cell_type": "code",
   "execution_count": null,
   "id": "4faeb98d-594e-44bc-93cb-8728fdc240c7",
   "metadata": {},
   "outputs": [
    {
     "ename": "ZeroDivisionError",
     "evalue": "division by zero",
     "output_type": "error",
     "traceback": [
      "\u001b[0;31m---------------------------------------------------------------------------\u001b[0m",
      "\u001b[0;31mZeroDivisionError\u001b[0m                         Traceback (most recent call last)",
      "Input \u001b[0;32mIn [12]\u001b[0m, in \u001b[0;36m<module>\u001b[0;34m\u001b[0m\n\u001b[0;32m----> 1\u001b[0m y \u001b[38;5;241m=\u001b[39m \u001b[43minverse\u001b[49m\u001b[43m(\u001b[49m\u001b[38;5;241;43m0\u001b[39;49m\u001b[43m)\u001b[49m\n",
      "Input \u001b[0;32mIn [9]\u001b[0m, in \u001b[0;36minverse\u001b[0;34m(x)\u001b[0m\n\u001b[1;32m      1\u001b[0m \u001b[38;5;28;01mdef\u001b[39;00m \u001b[38;5;21minverse\u001b[39m(x):\n\u001b[0;32m----> 2\u001b[0m     \u001b[38;5;28;01mreturn\u001b[39;00m \u001b[38;5;241;43m1\u001b[39;49m\u001b[38;5;241;43m/\u001b[39;49m\u001b[43mx\u001b[49m\n",
      "\u001b[0;31mZeroDivisionError\u001b[0m: division by zero"
     ]
    }
   ],
   "source": [
    "y = inverse(0)"
   ]
  },
  {
   "cell_type": "code",
   "execution_count": null,
   "id": "1b8dbffe-6b13-4b3c-ba63-36563cd9c289",
   "metadata": {},
   "outputs": [
    {
     "name": "stdout",
     "output_type": "stream",
     "text": [
      "> \u001b[0;32m/tmp/ipykernel_111/2900781285.py\u001b[0m(2)\u001b[0;36minverse\u001b[0;34m()\u001b[0m\n",
      "\u001b[0;32m      1 \u001b[0;31m\u001b[0;32mdef\u001b[0m \u001b[0minverse\u001b[0m\u001b[0;34m(\u001b[0m\u001b[0mx\u001b[0m\u001b[0;34m)\u001b[0m\u001b[0;34m:\u001b[0m\u001b[0;34m\u001b[0m\u001b[0;34m\u001b[0m\u001b[0m\n",
      "\u001b[0m\u001b[0;32m----> 2 \u001b[0;31m    \u001b[0;32mreturn\u001b[0m \u001b[0;36m1\u001b[0m\u001b[0;34m/\u001b[0m\u001b[0mx\u001b[0m\u001b[0;34m\u001b[0m\u001b[0;34m\u001b[0m\u001b[0m\n",
      "\u001b[0m\n"
     ]
    },
    {
     "name": "stdin",
     "output_type": "stream",
     "text": [
      "ipdb>  w\n"
     ]
    },
    {
     "name": "stdout",
     "output_type": "stream",
     "text": [
      "  \u001b[0;32m/tmp/ipykernel_111/2697043687.py\u001b[0m(1)\u001b[0;36m<module>\u001b[0;34m()\u001b[0m\n",
      "\u001b[0;32m----> 1 \u001b[0;31m\u001b[0my\u001b[0m \u001b[0;34m=\u001b[0m \u001b[0minverse\u001b[0m\u001b[0;34m(\u001b[0m\u001b[0;36m0\u001b[0m\u001b[0;34m)\u001b[0m\u001b[0;34m\u001b[0m\u001b[0;34m\u001b[0m\u001b[0m\n",
      "\u001b[0m\n",
      "> \u001b[0;32m/tmp/ipykernel_111/2900781285.py\u001b[0m(2)\u001b[0;36minverse\u001b[0;34m()\u001b[0m\n",
      "\u001b[0;32m      1 \u001b[0;31m\u001b[0;32mdef\u001b[0m \u001b[0minverse\u001b[0m\u001b[0;34m(\u001b[0m\u001b[0mx\u001b[0m\u001b[0;34m)\u001b[0m\u001b[0;34m:\u001b[0m\u001b[0;34m\u001b[0m\u001b[0;34m\u001b[0m\u001b[0m\n",
      "\u001b[0m\u001b[0;32m----> 2 \u001b[0;31m    \u001b[0;32mreturn\u001b[0m \u001b[0;36m1\u001b[0m\u001b[0;34m/\u001b[0m\u001b[0mx\u001b[0m\u001b[0;34m\u001b[0m\u001b[0;34m\u001b[0m\u001b[0m\n",
      "\u001b[0m\n"
     ]
    },
    {
     "name": "stdin",
     "output_type": "stream",
     "text": [
      "ipdb>  !x\n"
     ]
    },
    {
     "name": "stdout",
     "output_type": "stream",
     "text": [
      "0\n"
     ]
    },
    {
     "name": "stdin",
     "output_type": "stream",
     "text": [
      "ipdb>  q\n"
     ]
    }
   ],
   "source": [
    "%debug"
   ]
  },
  {
   "cell_type": "code",
   "execution_count": null,
   "id": "b203455d-2512-455e-b283-02a4c130dd93",
   "metadata": {},
   "outputs": [
    {
     "ename": "NameError",
     "evalue": "name 'y' is not defined",
     "output_type": "error",
     "traceback": [
      "\u001b[0;31m---------------------------------------------------------------------------\u001b[0m",
      "\u001b[0;31mNameError\u001b[0m                                 Traceback (most recent call last)",
      "Input \u001b[0;32mIn [66]\u001b[0m, in \u001b[0;36m<module>\u001b[0;34m\u001b[0m\n\u001b[0;32m----> 1\u001b[0m \u001b[43my\u001b[49m\n",
      "\u001b[0;31mNameError\u001b[0m: name 'y' is not defined"
     ]
    }
   ],
   "source": [
    "y"
   ]
  },
  {
   "cell_type": "markdown",
   "id": "cc607266-a3bc-42a9-8580-655c58184cb8",
   "metadata": {},
   "source": [
    "Now, JupyterLab also includes a debugger we can use."
   ]
  },
  {
   "cell_type": "markdown",
   "id": "ecc57445-8ad0-43ce-a440-6cc2497bb813",
   "metadata": {},
   "source": [
    "## Exercise\n",
    "\n",
    "Write a function that takes a list of numbers (integers) and returns something that looks like an histogram of the data. For example, For the following list \n",
    "\n",
    "`L = [1,1,2,2,2]`\n",
    "\n",
    "You can return something that allow us to count the number of repetitions, for example\n",
    "\n",
    "`{1: 2, 2: 3}`\n",
    "\n",
    "(for the output of this function, you can also propose a different data structure or you can even try to make a plot of the histogram)\n",
    "Try to include arguments such as the number of bins or the spacing between them or a variable that indicates if the histogram has to be normalized (divided by the total number of elements, such that the total mass of the histogram is 1).\n",
    "\n",
    "When writing your function, remember that sometimes less is more. Following Andy Oram and Greg Wilson advice in *Beautiful Code*,\n",
    "\n",
    ">\n",
    "> *A designer knows he has achieved perfection not when there is nothing left to add, but when there is nothing left to take away.*\n",
    ">\n"
   ]
  },
  {
   "cell_type": "code",
   "execution_count": null,
   "id": "8745dedc-7c43-463f-a141-d17c713f7a76",
   "metadata": {},
   "outputs": [],
   "source": [
    "### def ... ():\n",
    "### \"\"\"\n",
    "### ...\n",
    "### \"\"\"\n",
    "### return ..."
   ]
  },
  {
   "cell_type": "markdown",
   "id": "408631bd-59d4-4374-be46-da52bff9082e",
   "metadata": {},
   "source": [
    "Then try your function on the following examples"
   ]
  },
  {
   "cell_type": "code",
   "execution_count": null,
   "id": "3e7c069e-5810-4612-94ba-0c3ba930e65b",
   "metadata": {},
   "outputs": [],
   "source": [
    "import numpy as np\n",
    "\n",
    "L0 = np.random.randint(0,10,20)\n",
    "L1 = np.random.uniform(0,1,20)\n",
    "L2 = []"
   ]
  },
  {
   "cell_type": "code",
   "execution_count": null,
   "id": "04ffb659-8032-41b3-9d7d-a1bc565f2cc6",
   "metadata": {},
   "outputs": [
    {
     "data": {
      "image/png": "[encoded data removed]",
      "text/plain": [
       "<Figure size 432x288 with 1 Axes>"
      ]
     },
     "metadata": {
      "needs_background": "light"
     },
     "output_type": "display_data"
    }
   ],
   "source": [
    "import matplotlib.pyplot as plt\n",
    "\n",
    "plt.hist(L0);"
   ]
  }
 ],
 "metadata": {
  "kernelspec": {
   "display_name": "Python 3 (ipykernel)",
   "language": "python",
   "name": "python3"
  },
  "language_info": {
   "codemirror_mode": {
    "name": "ipython",
    "version": 3
   },
   "file_extension": ".py",
   "mimetype": "text/x-python",
   "name": "python",
   "nbconvert_exporter": "python",
   "pygments_lexer": "ipython3",
   "version": "3.9.9"
  }
 },
 "nbformat": 4,
 "nbformat_minor": 5
}
