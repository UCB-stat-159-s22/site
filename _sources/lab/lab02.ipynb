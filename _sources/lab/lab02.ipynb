{
 "cells": [
  {
   "cell_type": "markdown",
   "metadata": {},
   "source": [
    "# Lab Seesion 2: GitHub & The Shell\n",
    "\n",
    "* **Statistics 159/259, Spring 2022**\n",
    "* Prof. F. Pérez and GSI F. Sapienza, Department of Statistics, UC Berkeley.\n",
    "* 01/31/2022\n",
    "\n",
    "Menu for today:\n",
    "\n",
    "1. **Recap on Lab 01.** Quick overview of how to define functions and write errors and exceptions.\n",
    "\n",
    "1. **Homework No1 Announcement.** You can create a repository template for Homework No1 by following the following link in [GitHub Classroom](https://classroom.github.com/a/11zsNEaq). Also remember to send the two paragraphs for the reading assignment No1 (deadline at 9PM).\n",
    "\n",
    "1. **Playing with the Unix Shell.** We are going to manipulate files and directories in GitHub but using the unit shell.\n",
    "\n",
    "**Learning goals for today**: practicing GitHub and bash commands in the shell. Until now, we have seen (at least) three different ways of manipulating files and directories (including those we have inside a repository):\n",
    " 1. Simple manipulation using the files browser in JupyterLab\n",
    " 1. Using the [Midnight Commander](https://linuxcommand.org/lc3_adv_mc.php) from the command shell\n",
    " 1. Using Bash as command-line interface (CUI) from the command shell.\n",
    " \n",
    "The idea is that you get familiar with all these. So, even when you are able to all tasks with at least one of the last three, try to learn how to use the others. For example, the Midnight Commander (`mc` in the terminal) is very handy and fast at the moment of manipulating file,; while for most of the GitHub manipulations we will be using the commands from the shell."
   ]
  },
  {
   "cell_type": "markdown",
   "metadata": {},
   "source": [
    "Useful links: \n",
    "\n",
    "- [JupyterHub](https://stat159.datahub.berkeley.edu/hub/login?next=%2Fhub%2F)\n",
    "- [Lab 01](https://ucb-stat-159-s22.github.io/site/lab/lab01.html)\n",
    "- [github/fperez/dotfiles](https://github.com/fperez/dotfiles)\n",
    "- [Convenient credentials management](https://ucb-stat-159-s22.github.io/site/lectures/intro-git/Git-Tutorial.html#convenient-credentials-management)"
   ]
  },
  {
   "cell_type": "markdown",
   "metadata": {},
   "source": [
    "### GitHub, always GitHub...\n",
    "\n",
    "We will be practicing the file and directory commands for manipulations of files inside our `test` repository. Remember, during the lectures we initialize a repository called `test` that we use for practicing some basic git commands (See how to create an empty repository in the [Git Tutorial](https://github.com/UCB-stat-159-s22/site/blob/main/lectures/intro-git/Git-Tutorial.ipynb)). "
   ]
  },
  {
   "cell_type": "code",
   "execution_count": null,
   "metadata": {},
   "outputs": [],
   "source": [
    "%%bash\n",
    "\n",
    "git init test"
   ]
  },
  {
   "cell_type": "markdown",
   "metadata": {},
   "source": [
    "Now, in order to push the repository to GitHub we need to create a new empty repository page. To do that, we go to our GitHub account, then `Repositories` window and `new`. After we have done this, we will see a list of commands that tell us how to create a new repository from the command line. You may have done some of these steps already. A description of the full process can be found [here](https://www.digitalocean.com/community/tutorials/how-to-push-an-existing-project-to-github)."
   ]
  },
  {
   "cell_type": "code",
   "execution_count": null,
   "metadata": {},
   "outputs": [],
   "source": [
    "%%bash\n",
    "\n",
    "git branch -M main\n",
    "git remote add origin <url>   \n",
    "git push -u origin main"
   ]
  },
  {
   "cell_type": "markdown",
   "metadata": {},
   "source": [
    "### Warning up with the Unix Shell\n",
    "\n",
    "For this section, we are going to follow Chapters 2 & 3 of [Research Software Engineering with Python](https://merely-useful.tech/py-rse/index.html). There we can find a comprehensive explanation about how to use different commands in the command shell. These are some useful commands (for an extensive list of commands, refer to this [Bash Shell Reference](https://courses.cs.washington.edu/courses/cse390a/14au/bash.html))\n",
    "- `whoami`\n",
    "- `pwd`: Print Working Directory\n",
    "- `ls`: Listing\n",
    "- `cd`: Change Directory\n",
    "- `mkdir`: Make Directory\n",
    "- `mv`: Move. This command can be also used to rename a file. \n",
    "- `cp`: Copy\n",
    "- `rm`. Remove\n",
    "\n",
    "Remember that we can always communicate with the Shell on a Jupyter Notebook by adding `!` at the beginning of a line or with the magic command `%%bash` just at the beginning of the cell. \n",
    "We can also add *flags* to these commands to give further information of how do we want the program to be run."
   ]
  },
  {
   "cell_type": "code",
   "execution_count": null,
   "metadata": {},
   "outputs": [],
   "source": [
    "! ls -l"
   ]
  },
  {
   "cell_type": "markdown",
   "metadata": {},
   "source": [
    "When creating directories and files, try to pick names that avoid confusion with the bash syntax. For example, don't use spaces and don't start names with `-`.\n",
    "\n",
    "Now, let's do our first push to our `test` repository:"
   ]
  },
  {
   "cell_type": "code",
   "execution_count": null,
   "metadata": {},
   "outputs": [],
   "source": [
    "### [LIVE DEMOSTRATION]"
   ]
  },
  {
   "cell_type": "code",
   "execution_count": null,
   "metadata": {
    "nbgrader": {
     "grade": true,
     "grade_id": "q7-written",
     "locked": false,
     "points": 6,
     "schema_version": 2,
     "solution": true
    },
    "tags": [
     "student",
     "written",
     "q_feature"
    ]
   },
   "outputs": [],
   "source": [
    "%%bash\n",
    "\n",
    "git init test\n",
    "git add text1.txt\n",
    "git commit -m\"first commit\""
   ]
  },
  {
   "cell_type": "code",
   "execution_count": null,
   "metadata": {},
   "outputs": [],
   "source": [
    "! echo \"Hello\" > text.txt\n",
    "! cat text.txt"
   ]
  },
  {
   "cell_type": "code",
   "execution_count": null,
   "metadata": {},
   "outputs": [],
   "source": [
    "! git add text.txt"
   ]
  },
  {
   "cell_type": "code",
   "execution_count": null,
   "metadata": {},
   "outputs": [],
   "source": [
    "! git commit -m\"My first commit\"\n",
    "#! git commit"
   ]
  },
  {
   "cell_type": "code",
   "execution_count": null,
   "metadata": {},
   "outputs": [],
   "source": [
    "%%bash\n",
    "\n",
    "git branch -M main\n",
    "git remote add origin https://github.com/facusapienza21/test2.git\n",
    "git push -u origin main"
   ]
  },
  {
   "cell_type": "markdown",
   "metadata": {},
   "source": [
    "Now, there are different variations to the previous protocol... can you think in any?"
   ]
  },
  {
   "cell_type": "markdown",
   "metadata": {
    "jp-MarkdownHeadingCollapsed": true,
    "nbgrader": {
     "grade": false,
     "grade_id": "q8",
     "locked": true,
     "schema_version": 2,
     "solution": false
    },
    "tags": []
   },
   "source": [
    "### Exercise 1: Push new files to GitHub\n",
    "\n",
    "Create a text file with some text inside using just the shell.  Remember the protocol to make push/pull in the Hub!!! In order to this to work, remember to have installed the app for the authentication and that the app has permissions on your repository. \n",
    "\n",
    "Until now we were working with simple text files. Create a Jupyter Notebook and add it to your new repository (you can do this using the directly thought JupyterLab)."
   ]
  },
  {
   "cell_type": "code",
   "execution_count": null,
   "metadata": {
    "tags": []
   },
   "outputs": [],
   "source": [
    "..."
   ]
  },
  {
   "cell_type": "markdown",
   "metadata": {},
   "source": [
    "### Exercise 2: Modifying files\n",
    "\n",
    "Make some modifications to one of the files inside your `test` repository. These changes can include modifications in a text file or actual code in a script of Jupyter notebook. Can you open and read such file with the Midnight commander? If so, can you add further modifications to it?\n",
    "\n",
    "Try to add your commit message directly using the command `git commit -m\"my message\"` and by using the [Emacs editor](https://www.digitalocean.com/community/tutorials/how-to-use-the-emacs-editor-in-linux) (this will be launched after you enter `git commit` without any message). If you made a mistake or want to change your last commit message, you can use `git commit --amend` to change it. "
   ]
  },
  {
   "cell_type": "markdown",
   "metadata": {},
   "source": [
    "_Type your answer here, replacing this text._"
   ]
  },
  {
   "cell_type": "markdown",
   "metadata": {},
   "source": [
    "### Exercise 3: Dotfiles\n",
    "\n",
    "Make more modifications to the files in your repository, but this time do the interaction with GitHub using `dotfiles` instead of `git`. Check the `git log`, who is doing the modifications in the repository? If your username is no there, you may need to modify your `.gitconfig` file..."
   ]
  },
  {
   "cell_type": "markdown",
   "metadata": {},
   "source": [
    "_Type your answer here, replacing this text._"
   ]
  },
  {
   "cell_type": "markdown",
   "metadata": {
    "nbgrader": {
     "grade": false,
     "grade_id": "q9",
     "locked": true,
     "schema_version": 2,
     "solution": false
    },
    "tags": []
   },
   "source": [
    "### Exercise 4: More commands\n",
    "\n",
    "Now that you are more familiar with GitHub, let's try to do some more sophisticated commands from the shell. Try to rename and move files inside the repository. Try changing some of them and removing some others. As you are doing this, use at least once each one of the bash commanders enumerated at the beginning of this notebook. "
   ]
  },
  {
   "cell_type": "markdown",
   "metadata": {},
   "source": [
    "#### Congratulations! You have completed the lab! If you want to do some more practice, take a look to the exercises at the end of [Chapter 2](https://merely-useful.tech/py-rse/bash-basics.html)"
   ]
  }
 ],
 "metadata": {
  "kernelspec": {
   "display_name": "Python 3 (ipykernel)",
   "language": "python",
   "name": "python3"
  },
  "language_info": {
   "codemirror_mode": {
    "name": "ipython",
    "version": 3
   },
   "file_extension": ".py",
   "mimetype": "text/x-python",
   "name": "python",
   "nbconvert_exporter": "python",
   "pygments_lexer": "ipython3",
   "version": "3.9.9"
  }
 },
 "nbformat": 4,
 "nbformat_minor": 4
}
