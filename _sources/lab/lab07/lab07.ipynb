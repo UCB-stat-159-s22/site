{
 "cells": [
  {
   "cell_type": "markdown",
   "metadata": {
    "tags": []
   },
   "source": [
    "# Lab Session 7: Local Installation\n",
    "\n",
    "* **Statistics 159/259, Spring 2022**\n",
    "* Prof. F. Pérez and GSI F. Sapienza, Department of Statistics, UC Berkeley.\n",
    "* 04/04/2022\n",
    "\n",
    "The goal for today is to setup your local machine with the JupyterLab we are using in the Stat 159/259 Hub. \n",
    "\n",
    "Useful links: \n",
    "\n",
    "- [fperez/homesetup](https://github.com/fperez/homesetup)\n",
    "- [Managing environments with Anaconda](https://docs.conda.io/projects/conda/en/latest/user-guide/tasks/manage-environments.html)\n",
    "- [JupyterHub](https://stat159.datahub.berkeley.edu/hub/login?next=%2Fhub%2F)\n",
    "- [Convenient credentials management](https://ucb-stat-159-s22.github.io/site/lectures/intro-git/Git-Tutorial.html#convenient-credentials-management)\n"
   ]
  },
  {
   "cell_type": "markdown",
   "metadata": {
    "jp-MarkdownHeadingCollapsed": true,
    "tags": []
   },
   "source": [
    "## Part 1: Installation and configuration of miniconda\n",
    "\n",
    "Instead of installing conda with the full package management system and many Python libraries, we are going to install [Miniconda](https://docs.conda.io/en/latest/miniconda.html), a minimalist version of conda that included the package management tool and a small number of useful packages. If you already have conda installed in your machine, you may don't need to do this. An easy way to check if conda is installed in your computes is by enter `conda --help` in the terminal. You are also welcome of installing conda from zero by removing all conda directories and installing miniconda. \n",
    "\n",
    "You can install the last version of miniconda depending on you operating system from the [Miniconda website](https://docs.conda.io/en/latest/miniconda.html). For unix machines, a more simple way of doing this is by using the `wget` command followed by the installer link ([silent installation mode](https://conda.io/projects/conda/en/latest/user-guide/install/macos.html#install-macos-silent)). For example, for a MacOSX machine you can use \n",
    "\n",
    "```bash\n",
    "wget https://repo.anaconda.com/miniconda/Miniconda3-latest-MacOSX-x86_64.sh -O ~/miniconda.sh\n",
    "bash ~/miniconda.sh -b -p $HOME/local/conda\n",
    "```\n",
    "and for a Linux machine\n",
    "```bash\n",
    "wget https://repo.anaconda.com/miniconda/Miniconda3-latest-Linux-x86_64.sh -O ~/miniconda.sh\n",
    "bash ~/miniconda.sh -b -p $HOME/local/conda\n",
    "```\n",
    "\n",
    "**Note for Windows users**\n",
    "\n",
    "> If you are working from a Windows machine, you can directly install Miniconda using the link provided in the website. Most cloud-hosted computing is based on a Unix foundation, which both MacOS and Linux provide out of the box, so some of our instructions fit that workflow a little more easily. But for Windows platforms, Microsoft now officially supports something very similar, which is excellent and we highly encourage you to play with and learn about: [the Windows Subsystem for Linux (WSL)](https://docs.microsoft.com/en-us/windows/wsl/about).  It provides top-notch Unix functionality next to your regular Windows tools and workflow, and is probably the ideal setup for modern scientific and research computing on Windows. Discussing it in detail is beyond the scope of this course, but we highly encourage you to explore this tool on your own (and let us know how it goes!).\n",
    "\n",
    "In order to specify the path where conda is installed, you need to add the following line to your `.bashrc` file\n",
    "```bash\n",
    "# add path to conda\n",
    "export PATH=\"$HOME/local/conda/bin:$PATH\"\n",
    "```\n",
    "and execute it by `source .bashrc`. After doing this, you will see that now conda is recognized. You can fix this changes by now running `conda init`, so you don't need to worry again about `PATH`. You can see where conda has been installed by typing `which conda` in your terminal. \n",
    "\n",
    "You can change the configuration of conda inside `.condarc` manually or directly though the shell by using the following commands. In this case, we specify the [channel](https://docs.conda.io/projects/conda/en/latest/user-guide/tasks/manage-channels.html) used by conda/mamba to download the libraries. \n",
    "\n",
    "```bash\n",
    "conda config --add channels conda-forge\n",
    "conda config --set channel_priority strict\n",
    "```\n",
    "Once you have installed conda, you can use it to install [mamba](https://mamba.readthedocs.io/en/latest/installation.html#): \n",
    "```bash\n",
    "conda install --yes mamba\n",
    "\n",
    "```\n",
    "If this doesn't work, you can also try `conda install mamba -n base -c conda-forge`."
   ]
  },
  {
   "cell_type": "markdown",
   "metadata": {
    "tags": []
   },
   "source": [
    "## Part 2: Setting the Hub environment in local\n",
    "\n",
    "Once you had installed miniconda, you can create virtual environments from a `yml` file just as we did in the Hub. As a first step, we are going to create a virtual environment with the same configuration we have in the Hub. The configuration file `environment.yml` for the Hub is available at the [site repository for the course](https://github.com/UCB-stat-159-s22/site). Before using `environment.yml` to create a new environment, take a look to the text file and try to identify parts of the file that are not necessary or irrelevant to create the Hub environment; you will have to remove the last lines of the file that include the pip instructions for the requirements of the JupyterBook we use for the website, which are not necessary for the creation of the virtual environment.\n",
    "\n",
    "\n",
    "Then, you can create a the virtual environment with \n",
    "```\n",
    "mamba env create -f environmnent.yml\n",
    "```\n",
    "You can always use `conda env create -f <yml file>`, but mamba is much faster than conda. It will take a few minutes until all the dependencies get installed in your machine. \n",
    "\n",
    "\n",
    "Now you can activate the environment from the terminal using `conda activate <environment name>`. From there, you can lunch the classical notebook by tipping `jupyter notebook` but you also have installed the JupyterLab, which you can lunch with `jupyter lab`."
   ]
  },
  {
   "cell_type": "markdown",
   "metadata": {},
   "source": [
    "In order to reproduce the same environment we have in the Hub, we are going to install JupyterLab in our base environment and then create a Python kernel with the environment of the Hub. In your base environment (`conda activate base`), be sure to have installed both `JupyterLab` and `ipykernel`. If not, you can install then using conda:\n",
    "```\n",
    "conda install -c conda-forge jupyterlab\n",
    "conda install ipykernel\n",
    "```\n",
    "From here, the story is pretty much the same of what we did in the Hub to create a kernel with a new virtual environment (see [Using an environmnet in your notebooks](https://ucb-stat-159-s22.github.io/site/lectures/environments/conda-envs.html#using-an-environment-in-your-notebooks)). Moving back to  the new environment we just created (`conda activate <environment name>`) we run \n",
    "```\n",
    "python -m ipykernel install --user --name <environment name> --display-name \"IPython - STAT 159\"\n",
    "\n",
    "```\n",
    "Now, if we comeback to `base` and lunch Jupyter Lab with `jupyter lab`, we should see the option creating a new notebook with the `IPython - STAT 159` kernel."
   ]
  },
  {
   "cell_type": "markdown",
   "metadata": {},
   "source": [
    "## Part 3: Reproducibility check\n",
    "\n",
    "For Homework No4 you created a virtual environment with the desired installation for reproducing one of the papers. Clone the repository for the homework in you local machine and use the `yml` file in the GitHub repository to create a virtual environment in your local machine from which you are able to run the same code you ran in the Hub. \n",
    "\n",
    "```{note}\n",
    "If you don't have git installed on your machine, you can get it via conda/mamba too!\n",
    "```"
   ]
  },
  {
   "cell_type": "markdown",
   "metadata": {},
   "source": [
    "## Additional Comments \n",
    "\n",
    "If you had made it to this point, you can continue the configuration of your local machine so it also includes some of the other tools we were using in the Hub. \n",
    "\n",
    "1. **Dotfiles**: You can clone the bare repository you used to configure your bash, git and more setups in the hub. Remember to clone the repository you had forked in your personal GH account.  \n",
    "1. **Midnight Commander**: You can install the midnight commander on your local computer using [brew](https://brew.sh), an installation tool for Mac computers. "
   ]
  },
  {
   "cell_type": "code",
   "execution_count": null,
   "metadata": {},
   "outputs": [],
   "source": []
  }
 ],
 "metadata": {
  "celltoolbar": "Create Assignment",
  "kernelspec": {
   "display_name": "Python 3 (ipykernel)",
   "language": "python",
   "name": "python3"
  },
  "language_info": {
   "codemirror_mode": {
    "name": "ipython",
    "version": 3
   },
   "file_extension": ".py",
   "mimetype": "text/x-python",
   "name": "python",
   "nbconvert_exporter": "python",
   "pygments_lexer": "ipython3",
   "version": "3.9.9"
  },
  "toc-autonumbering": false,
  "toc-showcode": false,
  "toc-showmarkdowntxt": false,
  "toc-showtags": false
 },
 "nbformat": 4,
 "nbformat_minor": 4
}
