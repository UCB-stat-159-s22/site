{
 "cells": [
  {
   "cell_type": "markdown",
   "metadata": {
    "tags": []
   },
   "source": [
    "# Lab Session 9: Jupyter Book\n",
    "\n",
    "* **Statistics 159/259, Spring 2022**\n",
    "* Prof. F. Pérez and GSI F. Sapienza, Department of Statistics, UC Berkeley.\n",
    "* 04/18/2022\n",
    "\n",
    "Today we are going to construct and deploy our first Jupyter Book! This is an incredible tool that allow us to transform contents in our project such as Jupyter notebooks, markdown files and figures into html and pdf files that can be then shared or even hosted on the web. Even if you haven't use it yet, you had been exposed to Jupyter Book during all the semester: the [course website](https://github.com/UCB-stat-159-s22/site) is the Jupyter Book generated from the [site repository](https://ucb-stat-159-s22.github.io/site/overview.html).\n",
    "\n",
    "We are going to put in practice the concepts we had covered in [Jupyter Book 101](https://docs.google.com/presentation/d/1D7jZ9mI-VcU9-s9IEEuGCvQH4rm5Bpwc3xek1Mu_Nak/edit#slide=id.gdffb14669d_0_176). A complete documentation of how to [create your first book](https://jupyterbook.org/start/your-first-book.html) can be found in the Jupyter Book documentation. We recommend you to use these two to create the books for this lab and use the course website as a guide. \n",
    "\n",
    "We recommend you to use Jupyter book both in the Hub and in the local installation you have in your machine. In this last case, check you have installed `jupyter-book` (either enter `which jupyter-book` or `jupyter-book --help` from the terminal)."
   ]
  },
  {
   "cell_type": "markdown",
   "metadata": {},
   "source": [
    "## Part 1: Create your first Book\n",
    "\n",
    "We are going to follow step by step the example in [create your first book](https://jupyterbook.org/start/your-first-book.html). For now, we are going to create a book in our machine (Hub or local computer) and then we are going to add these files into a GitHub repository. \n",
    "\n",
    "1. Create a new sample book using the command `jupyter-book create mynewbook/`.This will create a new template folder with some basic files used to deploy the book. Explore each one of the configuration files, specially `_toc.yml` and `_config.yml`. All these are explained in the tutorial.\n",
    "1. Build your book. Do this both from the Hub and your local machine. \n",
    "    1. If you are working in your local machine, you can simply execute `jupyter-book build mynewbook/`.\n",
    "    1. If you are working from the Stat159 Hub, you have to run Sphinx manually. [Here](https://ucb-stat-159-s22.github.io/site/lectures/documentation.html) are the instructions of how to do this. \n",
    "1. Explore the markdown and Jupyter notebook created in your book. They both explain the different elements you can include in them. "
   ]
  },
  {
   "cell_type": "markdown",
   "metadata": {},
   "source": [
    "## Part 2: Add some extra features\n",
    "\n",
    "Let's customize our new Jupyter Book a little bit. After each change, remember to re-build your book. \n",
    "\n",
    "1. Add a new image to your book and use it as the logo of the Jupyter book. \n",
    "1. Add a new reference to `references.bib` and cite such reference in either a markdown or Jupyter notebook in your book. Check that when deployed, the reference appears in the right format in the book. How to add more than one citation at once? You can explore the [Get started with references](https://jupyterbook.org/tutorials/references.html).\n",
    "1. Create a new Jupyter notebook inside your book and add it to the table of contents so it appears in the book. In such library, import a new library that is not already included in `requirements.txt` and add it to it so the notebook runs when the book is build. What is the difference between this `requirement.txt` and the requirement file usually named `environmnet.yml` we were using before?"
   ]
  },
  {
   "cell_type": "markdown",
   "metadata": {},
   "source": [
    "## Part 3: Publish your book online\n",
    "\n",
    "For this part, use the tutorial [Publish your book online](https://jupyterbook.org/start/publish.html). All the instructions of how to create a new repository in GitHub with the contents of your book are included there plus and explanation about how the hosting of the Jupyter book works. After following these instructions, you should see your book hosted in `https://<user>.github.io/<myonlinebook>/`. Add this link to the description of your GitHub repository."
   ]
  },
  {
   "cell_type": "markdown",
   "metadata": {},
   "source": [
    "## Part 4: Keep your book updated with GH actions\n",
    "\n",
    "You can use the previous workflow any time you update the contents of you book or instead you can set a GitHub action that does this for you any time you make a change in the book repository. You can explore different ways of doing this in [GitHub Pages and Actions](https://jupyterbook.org/publish/gh-pages.html?highlight=actions).\n",
    "\n",
    "In order to create a new action, go to the `Actions` window in your GitHub repository and do `New workflow >  set up a workflow yourself`. Create a new file `.github/workflows/book.yml` with the same contents we have in `book.yml` file in the [site repository](https://github.com/UCB-stat-159-s22/site/blob/main/.github/workflows/book.yml). Notice that in the site we are using `book-requirement.txt` while the default name for the requirement file for Jupyter book is `requirement.txt`. In order to GitHub actions to run without an error, you should standardize the name of the requirement file. \n",
    "\n",
    "Now, when you push or make a new commit to the repository your changes should be reflected in the website after the corresponded GitHub action has been completed without errors (you can see this in the `Actions` window in GitHib)."
   ]
  }
 ],
 "metadata": {
  "celltoolbar": "Create Assignment",
  "kernelspec": {
   "display_name": "Python 3 (ipykernel)",
   "language": "python",
   "name": "python3"
  },
  "language_info": {
   "codemirror_mode": {
    "name": "ipython",
    "version": 3
   },
   "file_extension": ".py",
   "mimetype": "text/x-python",
   "name": "python",
   "nbconvert_exporter": "python",
   "pygments_lexer": "ipython3",
   "version": "3.9.12"
  },
  "toc-autonumbering": false,
  "toc-showcode": false,
  "toc-showmarkdowntxt": false,
  "toc-showtags": false
 },
 "nbformat": 4,
 "nbformat_minor": 4
}
