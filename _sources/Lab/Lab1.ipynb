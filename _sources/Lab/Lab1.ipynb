{
 "cells": [
  {
   "cell_type": "markdown",
   "id": "f1fa1322-362d-4b23-bed5-97c8bcb4f06d",
   "metadata": {},
   "source": [
    "# LAB Session No1 - STAT 159/259 Collaborative and Reproducible Data Science (Spring 2022) \n",
    "> Mondays 11AM-1PM & 2PM-4PM \n",
    ">\n",
    "> Instructor: [Facundo Sapienza](https://statistics.berkeley.edu/people/facu-sapienza)"
   ]
  },
  {
   "cell_type": "markdown",
   "id": "fb58517e-0dcd-45ac-878a-7757bcc00d4e",
   "metadata": {},
   "source": [
    "Welcome to Stat 159/259! This is our first lab, so for today we will focus in setting you up in Github and make some practice in Python. The menu for today is\n",
    "\n",
    "1. Setting up GitHub Account\n",
    "    1. [The curious coder’s guide to git](https://matthew-brett.github.io/curious-git/)\n",
    "\n",
    "1. Harming up with Python\n",
    "    1. [A Whirlwind Tour of Python](https://jakevdp.github.io/WhirlwindTourOfPython/)\n",
    "    \n",
    "1. Debugging\n",
    "    1. Debuggin with [pdb](https://docs.python.org/3/library/pdb.html) \n",
    "    1. Jupyter debugger\n",
    "    \n",
    "1. Complete [form](https://docs.google.com/forms/d/1LMPPklVx6l7qdcBppK0jxpBWJv-95imkCMoaZxjl6_A/edit)\n",
    "\n",
    "Remember we will be working in the [JupyterHub](https://stat159.datahub.berkeley.edu/hub/login?next=%2Fhub%2F) for the full course, which has being already setted up with the libraries and tools we will be using during the semester. Why do we use the Hub? Well, it is quite convinient since you don't need to install anything in your personal computer and you don't need to worry about having installed all the required packages with their right version. \n",
    "\n",
    "As we have already mentioned, we are going to use Python for all the projects and homeworks in this course. However, it is important to remark that many of the concepts we will see in this course apply to other programming lenguages too (Julia, R, C, etc). Some good reasons for working in Python include\n",
    "\n",
    "- Interpreted instead of compiled\n",
    "- Clean syntax\n",
    "- Object oriented (attributes + methods), convinient lenguage constructs\n",
    "- Variables are pointers (speed and memory efficient)"
   ]
  },
  {
   "cell_type": "code",
   "execution_count": 46,
   "id": "de3d095b-813e-4fa1-8fdf-e4741f9a44e0",
   "metadata": {},
   "outputs": [
    {
     "name": "stdout",
     "output_type": "stream",
     "text": [
      "171\n"
     ]
    }
   ],
   "source": [
    "import sys\n",
    "\n",
    "print(sys.getrefcount(255))"
   ]
  },
  {
   "cell_type": "code",
   "execution_count": 48,
   "id": "23946485-73ed-44fd-929e-371ba5de4a55",
   "metadata": {},
   "outputs": [],
   "source": [
    "x1 = 255"
   ]
  },
  {
   "cell_type": "code",
   "execution_count": 49,
   "id": "300b5087-477e-464c-a66c-1d68b3e70815",
   "metadata": {},
   "outputs": [
    {
     "name": "stdout",
     "output_type": "stream",
     "text": [
      "172\n"
     ]
    }
   ],
   "source": [
    "print(sys.getrefcount(255))"
   ]
  },
  {
   "cell_type": "markdown",
   "id": "46245c50-efbd-4983-bf60-ce6b408b3912",
   "metadata": {},
   "source": [
    "## 1. Setting up GitHub\n",
    "\n",
    "If you don't have a GitHub account yet, you can create one following this [link](http://github.com/). You can config your preferences by using \n",
    "\n",
    "`git config --global <setting> <option> `\n",
    "\n",
    "For example, you can configure your email and "
   ]
  },
  {
   "cell_type": "code",
   "execution_count": 6,
   "id": "612567ba-ee5c-4c56-99b4-ce07312081c8",
   "metadata": {},
   "outputs": [],
   "source": [
    "!git config --global user.name \"Facu Sapienza\"\n",
    "!git config --global user.email \"fsapienza@berkeley.edu\""
   ]
  },
  {
   "cell_type": "markdown",
   "id": "9a7d62f9-67db-436b-bef6-a9b3c3b4f9cb",
   "metadata": {},
   "source": [
    "For this course, we will be using Git Classroom, a platform..."
   ]
  },
  {
   "cell_type": "code",
   "execution_count": null,
   "id": "9fbc1f0a-bff4-414b-a149-24355ffa83f2",
   "metadata": {},
   "outputs": [],
   "source": []
  },
  {
   "cell_type": "markdown",
   "id": "bad4fe95-56ef-4d67-97b3-d4175373e509",
   "metadata": {},
   "source": [
    "## 2. Warming up with Python\n",
    "\n",
    "For today's session, we will follow [A Whirlwind Tour of Python](https://jakevdp.github.io/WhirlwindTourOfPython/). You can see the contents of the book online, but you can also clone the repository of the book with the following command\n",
    "\n",
    "`git clone https://github.com/jakevdp/WhirlwindTourOfPython.git`\n",
    "\n",
    "> Whenever you are doing this from the terminal or a notebook, remember to run this command from the directory you want the repository to be cloned. \n",
    "\n",
    "It is important that you are familiar with the contents of chapters 1-8, which include some introductory python sintax and data structures. If not, please take a few minites to go thought these notebooks and get familiar with them. These concepts include:\n",
    "- Basic operations (aritmetic, comparission, assigment, ...)\n",
    "- Manupulation of simple data structures (lists, dictionaries, tuples) \n",
    "- Control flow (for loops, conditional statements)"
   ]
  },
  {
   "cell_type": "code",
   "execution_count": 4,
   "id": "8551164c-008f-4b82-ac8e-8a8a23718812",
   "metadata": {},
   "outputs": [
    {
     "data": {
      "text/plain": [
       "(1+2j)"
      ]
     },
     "execution_count": 4,
     "metadata": {},
     "output_type": "execute_result"
    }
   ],
   "source": [
    "complex(1,2)"
   ]
  },
  {
   "cell_type": "markdown",
   "id": "159dbd54-0009-454c-8b16-e71cdc75b9f4",
   "metadata": {},
   "source": [
    "### 2.1. Functions\n",
    "\n",
    "For this part of the lecture, we recommend following Chapter 9.\n",
    "\n",
    "- Setting defaul argument values\n",
    "- *args and **kwargs"
   ]
  },
  {
   "cell_type": "code",
   "execution_count": 14,
   "id": "59c9e09c-865c-4dc9-a768-583e76596c0a",
   "metadata": {},
   "outputs": [],
   "source": [
    "def catch_all(*args, **kwargs):\n",
    "    print(\"args =\", args)\n",
    "    print(\"kwags =\", kwargs)\n",
    "    \n",
    "    if len(args) == 3:\n",
    "        print(args[1])\n",
    "    print(kwargs['b'])"
   ]
  },
  {
   "cell_type": "code",
   "execution_count": 15,
   "id": "cf224a85-0a5f-4bc6-9440-91c9976e083e",
   "metadata": {},
   "outputs": [
    {
     "name": "stdout",
     "output_type": "stream",
     "text": [
      "args = (1, 2, 3)\n",
      "kwags = {'b': 1.1, 'c': 1.2}\n",
      "2\n",
      "1.1\n"
     ]
    }
   ],
   "source": [
    "catch_all(1, 2, 3, b=1.1, c=1.2)"
   ]
  },
  {
   "cell_type": "code",
   "execution_count": 33,
   "id": "95ae2659-c83f-4b89-96b2-bc5f3e3418cc",
   "metadata": {},
   "outputs": [],
   "source": [
    "def sum_args(*args, **kwargs):\n",
    "    res = 0\n",
    "    for x in args:\n",
    "        res += x\n",
    "        \n",
    "    if \"factor\" in kwargs.keys():\n",
    "        res *= kwargs[\"factor\"]\n",
    "        \n",
    "    return res"
   ]
  },
  {
   "cell_type": "code",
   "execution_count": 34,
   "id": "0fca00a6-da4e-45b6-b10b-56e3837ce64b",
   "metadata": {},
   "outputs": [
    {
     "data": {
      "text/plain": [
       "22"
      ]
     },
     "execution_count": 34,
     "metadata": {},
     "output_type": "execute_result"
    }
   ],
   "source": [
    "sum_args(1,2,3,5,factor=2)"
   ]
  },
  {
   "cell_type": "markdown",
   "id": "37851130-336b-45ae-8b95-7108965d2d54",
   "metadata": {},
   "source": [
    "We can also define anonymous functions, usually refered by the symbol `lambda`. This are useful for different things (pandas)"
   ]
  },
  {
   "cell_type": "code",
   "execution_count": null,
   "id": "7e3d9afc-1171-4568-980c-7365e49fc5d2",
   "metadata": {},
   "outputs": [],
   "source": []
  },
  {
   "cell_type": "markdown",
   "id": "7b96bbca-19a2-4f17-9f5e-6751a054d8f7",
   "metadata": {},
   "source": [
    "### 2.2. Errors and Exceptions\n",
    "\n",
    "Different kind of errors that occur as we write code inclide syntax, runtime and semantic errors. Specially for runtime errors, Python give us a clue about what kind or error may happened during the execution of our code. For example,"
   ]
  },
  {
   "cell_type": "code",
   "execution_count": 57,
   "id": "d6c58dc3-f9ec-4408-9034-f19dd7fed08c",
   "metadata": {},
   "outputs": [
    {
     "ename": "ZeroDivisionError",
     "evalue": "division by zero",
     "output_type": "error",
     "traceback": [
      "\u001b[0;31m---------------------------------------------------------------------------\u001b[0m",
      "\u001b[0;31mZeroDivisionError\u001b[0m                         Traceback (most recent call last)",
      "\u001b[0;32m<ipython-input-57-bc757c3fda29>\u001b[0m in \u001b[0;36m<module>\u001b[0;34m\u001b[0m\n\u001b[0;32m----> 1\u001b[0;31m \u001b[0;36m1\u001b[0m \u001b[0;34m/\u001b[0m \u001b[0;36m0\u001b[0m\u001b[0;34m\u001b[0m\u001b[0;34m\u001b[0m\u001b[0m\n\u001b[0m",
      "\u001b[0;31mZeroDivisionError\u001b[0m: division by zero"
     ]
    }
   ],
   "source": [
    "1 / 0"
   ]
  },
  {
   "cell_type": "code",
   "execution_count": 58,
   "id": "76d39372-d18e-4289-b6cd-f86e85dc6eac",
   "metadata": {},
   "outputs": [
    {
     "ename": "KeyError",
     "evalue": "'c'",
     "output_type": "error",
     "traceback": [
      "\u001b[0;31m---------------------------------------------------------------------------\u001b[0m",
      "\u001b[0;31mKeyError\u001b[0m                                  Traceback (most recent call last)",
      "\u001b[0;32m<ipython-input-58-b5c465e0e08f>\u001b[0m in \u001b[0;36m<module>\u001b[0;34m\u001b[0m\n\u001b[1;32m      1\u001b[0m \u001b[0mmy_dict\u001b[0m \u001b[0;34m=\u001b[0m \u001b[0;34m{\u001b[0m\u001b[0;34m'a'\u001b[0m\u001b[0;34m:\u001b[0m\u001b[0;36m1\u001b[0m\u001b[0;34m,\u001b[0m \u001b[0;34m'b'\u001b[0m\u001b[0;34m:\u001b[0m\u001b[0;36m2\u001b[0m\u001b[0;34m}\u001b[0m\u001b[0;34m\u001b[0m\u001b[0;34m\u001b[0m\u001b[0m\n\u001b[0;32m----> 2\u001b[0;31m \u001b[0mmy_dict\u001b[0m\u001b[0;34m[\u001b[0m\u001b[0;34m'c'\u001b[0m\u001b[0;34m]\u001b[0m\u001b[0;34m\u001b[0m\u001b[0;34m\u001b[0m\u001b[0m\n\u001b[0m",
      "\u001b[0;31mKeyError\u001b[0m: 'c'"
     ]
    }
   ],
   "source": [
    "my_dict = {'a':1, 'b':2}\n",
    "my_dict['c']"
   ]
  },
  {
   "cell_type": "code",
   "execution_count": 61,
   "id": "72cb8f1e-1a4e-4fb5-8f1f-d7e02574f999",
   "metadata": {},
   "outputs": [
    {
     "ename": "TypeError",
     "evalue": "unsupported operand type(s) for +: 'dict' and 'dict'",
     "output_type": "error",
     "traceback": [
      "\u001b[0;31m---------------------------------------------------------------------------\u001b[0m",
      "\u001b[0;31mTypeError\u001b[0m                                 Traceback (most recent call last)",
      "\u001b[0;32m<ipython-input-61-0e52ea4ce56b>\u001b[0m in \u001b[0;36m<module>\u001b[0;34m\u001b[0m\n\u001b[0;32m----> 1\u001b[0;31m \u001b[0mmy_dict\u001b[0m \u001b[0;34m+\u001b[0m \u001b[0;34m{\u001b[0m\u001b[0;34m'c'\u001b[0m\u001b[0;34m:\u001b[0m\u001b[0;36m3\u001b[0m\u001b[0;34m}\u001b[0m\u001b[0;34m\u001b[0m\u001b[0;34m\u001b[0m\u001b[0m\n\u001b[0m",
      "\u001b[0;31mTypeError\u001b[0m: unsupported operand type(s) for +: 'dict' and 'dict'"
     ]
    }
   ],
   "source": [
    "my_dict + {'c':3}"
   ]
  },
  {
   "cell_type": "markdown",
   "id": "faa33668-a868-41e5-be18-c7ed44cf6f54",
   "metadata": {},
   "source": [
    "There are many more different kind of built-in exceptions in Python. You can find some more examples in this [link](https://docs.python.org/3/library/exceptions.html). A general `RuntimeError` is raised when the detected error doesn't fall in any of the other categories. \n",
    "\n",
    "There are diffirent ways of dealing with runtime errors in Python, there include the \n",
    "- `try`...`except` clause\n",
    "- `raise` statement"
   ]
  },
  {
   "cell_type": "code",
   "execution_count": 77,
   "id": "2bb44ad2-cae3-485d-b9a6-90e83537d73e",
   "metadata": {},
   "outputs": [
    {
     "name": "stdout",
     "output_type": "stream",
     "text": [
      "I was here\n",
      "0\n",
      "Something wrong happen\n"
     ]
    }
   ],
   "source": [
    "a = 1\n",
    "b = 0\n",
    "\n",
    "try:\n",
    "    print(\"I was here\")\n",
    "    print(b)\n",
    "    if b == 0:\n",
    "        raise ValueError(\"b must be different than zero.\")\n",
    "    a / b\n",
    "    print(\"Did I visit here?\")\n",
    "except: \n",
    "    print(\"Something wrong happen\")"
   ]
  },
  {
   "cell_type": "code",
   "execution_count": 79,
   "id": "07074a98-ea8b-42d3-9e31-d87bb2e83d03",
   "metadata": {},
   "outputs": [
    {
     "ename": "ValueError",
     "evalue": "b must be different than zero.",
     "output_type": "error",
     "traceback": [
      "\u001b[0;31m---------------------------------------------------------------------------\u001b[0m",
      "\u001b[0;31mValueError\u001b[0m                                Traceback (most recent call last)",
      "\u001b[0;32m<ipython-input-79-127bea34948f>\u001b[0m in \u001b[0;36m<module>\u001b[0;34m\u001b[0m\n\u001b[1;32m      3\u001b[0m \u001b[0;34m\u001b[0m\u001b[0m\n\u001b[1;32m      4\u001b[0m \u001b[0;32mif\u001b[0m \u001b[0mb\u001b[0m \u001b[0;34m==\u001b[0m \u001b[0;36m0\u001b[0m\u001b[0;34m:\u001b[0m\u001b[0;34m\u001b[0m\u001b[0;34m\u001b[0m\u001b[0m\n\u001b[0;32m----> 5\u001b[0;31m     \u001b[0;32mraise\u001b[0m \u001b[0mValueError\u001b[0m\u001b[0;34m(\u001b[0m\u001b[0;34m\"b must be different than zero.\"\u001b[0m\u001b[0;34m)\u001b[0m\u001b[0;34m\u001b[0m\u001b[0;34m\u001b[0m\u001b[0m\n\u001b[0m\u001b[1;32m      6\u001b[0m \u001b[0ma\u001b[0m \u001b[0;34m/\u001b[0m \u001b[0mb\u001b[0m\u001b[0;34m\u001b[0m\u001b[0;34m\u001b[0m\u001b[0m\n",
      "\u001b[0;31mValueError\u001b[0m: b must be different than zero."
     ]
    }
   ],
   "source": [
    "a = 1\n",
    "b = 0\n",
    "\n",
    "if b == 0:\n",
    "    raise ValueError(\"b must be different than zero.\")\n",
    "a / b"
   ]
  },
  {
   "cell_type": "markdown",
   "id": "04228ec5-88e3-4165-a43f-1a2c802eba35",
   "metadata": {},
   "source": [
    "### 2.3. Exercise: Functions with errors and exceptions  "
   ]
  },
  {
   "cell_type": "code",
   "execution_count": null,
   "id": "04fec174-a677-40b2-869d-e7e273d2426f",
   "metadata": {},
   "outputs": [],
   "source": []
  },
  {
   "cell_type": "code",
   "execution_count": null,
   "id": "0c3778f6-0db2-4e54-afe6-295b9bad1dd9",
   "metadata": {},
   "outputs": [],
   "source": []
  },
  {
   "cell_type": "markdown",
   "id": "e8992735-a9c6-4656-81c4-f766362f33a2",
   "metadata": {},
   "source": [
    "## 3. Debuggin in Jupyter \n",
    "\n",
    "Jupyter allow us to do post-mortem debugging with the `%debug` command. This is a basic pdb debugger.\n",
    "\n",
    "Metalevel; use `h` in the command line to see a list of all the options."
   ]
  },
  {
   "cell_type": "code",
   "execution_count": 1,
   "id": "0afd869d-0ab6-4f78-9be0-7a722285d309",
   "metadata": {},
   "outputs": [],
   "source": [
    "def inverse(x):\n",
    "    return 1/x"
   ]
  },
  {
   "cell_type": "code",
   "execution_count": 2,
   "id": "4faeb98d-594e-44bc-93cb-8728fdc240c7",
   "metadata": {},
   "outputs": [
    {
     "ename": "ZeroDivisionError",
     "evalue": "division by zero",
     "output_type": "error",
     "traceback": [
      "\u001b[0;31m---------------------------------------------------------------------------\u001b[0m",
      "\u001b[0;31mZeroDivisionError\u001b[0m                         Traceback (most recent call last)",
      "\u001b[0;32m<ipython-input-2-7538d73c586c>\u001b[0m in \u001b[0;36m<module>\u001b[0;34m\u001b[0m\n\u001b[0;32m----> 1\u001b[0;31m \u001b[0minverse\u001b[0m\u001b[0;34m(\u001b[0m\u001b[0;36m0\u001b[0m\u001b[0;34m)\u001b[0m\u001b[0;34m\u001b[0m\u001b[0;34m\u001b[0m\u001b[0m\n\u001b[0m",
      "\u001b[0;32m<ipython-input-1-6adc9ddd87cc>\u001b[0m in \u001b[0;36minverse\u001b[0;34m(x)\u001b[0m\n\u001b[1;32m      1\u001b[0m \u001b[0;32mdef\u001b[0m \u001b[0minverse\u001b[0m\u001b[0;34m(\u001b[0m\u001b[0mx\u001b[0m\u001b[0;34m)\u001b[0m\u001b[0;34m:\u001b[0m\u001b[0;34m\u001b[0m\u001b[0;34m\u001b[0m\u001b[0m\n\u001b[0;32m----> 2\u001b[0;31m     \u001b[0;32mreturn\u001b[0m \u001b[0;36m1\u001b[0m\u001b[0;34m/\u001b[0m\u001b[0mx\u001b[0m\u001b[0;34m\u001b[0m\u001b[0;34m\u001b[0m\u001b[0m\n\u001b[0m",
      "\u001b[0;31mZeroDivisionError\u001b[0m: division by zero"
     ]
    }
   ],
   "source": [
    "inverse(0)"
   ]
  },
  {
   "cell_type": "code",
   "execution_count": 3,
   "id": "1b8dbffe-6b13-4b3c-ba63-36563cd9c289",
   "metadata": {},
   "outputs": [
    {
     "name": "stdout",
     "output_type": "stream",
     "text": [
      "> \u001b[0;32m<ipython-input-1-6adc9ddd87cc>\u001b[0m(2)\u001b[0;36minverse\u001b[0;34m()\u001b[0m\n",
      "\u001b[0;32m      1 \u001b[0;31m\u001b[0;32mdef\u001b[0m \u001b[0minverse\u001b[0m\u001b[0;34m(\u001b[0m\u001b[0mx\u001b[0m\u001b[0;34m)\u001b[0m\u001b[0;34m:\u001b[0m\u001b[0;34m\u001b[0m\u001b[0;34m\u001b[0m\u001b[0m\n",
      "\u001b[0m\u001b[0;32m----> 2 \u001b[0;31m    \u001b[0;32mreturn\u001b[0m \u001b[0;36m1\u001b[0m\u001b[0;34m/\u001b[0m\u001b[0mx\u001b[0m\u001b[0;34m\u001b[0m\u001b[0;34m\u001b[0m\u001b[0m\n",
      "\u001b[0m\n"
     ]
    },
    {
     "name": "stdin",
     "output_type": "stream",
     "text": [
      "ipdb>  !x\n"
     ]
    },
    {
     "name": "stdout",
     "output_type": "stream",
     "text": [
      "0\n"
     ]
    },
    {
     "name": "stdin",
     "output_type": "stream",
     "text": [
      "ipdb>  !x+1\n"
     ]
    },
    {
     "name": "stdout",
     "output_type": "stream",
     "text": [
      "1\n"
     ]
    },
    {
     "name": "stdin",
     "output_type": "stream",
     "text": [
      "ipdb>  h\n"
     ]
    },
    {
     "name": "stdout",
     "output_type": "stream",
     "text": [
      "\n",
      "Documented commands (type help <topic>):\n",
      "========================================\n",
      "EOF    commands   enable    ll        pp       s                until \n",
      "a      condition  exit      longlist  psource  skip_hidden      up    \n",
      "alias  cont       h         n         q        skip_predicates  w     \n",
      "args   context    help      next      quit     source           whatis\n",
      "b      continue   ignore    p         r        step             where \n",
      "break  d          interact  pdef      restart  tbreak         \n",
      "bt     debug      j         pdoc      return   u              \n",
      "c      disable    jump      pfile     retval   unalias        \n",
      "cl     display    l         pinfo     run      undisplay      \n",
      "clear  down       list      pinfo2    rv       unt            \n",
      "\n",
      "Miscellaneous help topics:\n",
      "==========================\n",
      "exec  pdb\n",
      "\n"
     ]
    },
    {
     "name": "stdin",
     "output_type": "stream",
     "text": [
      "ipdb>  q\n"
     ]
    }
   ],
   "source": [
    "%debug"
   ]
  },
  {
   "cell_type": "code",
   "execution_count": 4,
   "id": "ae971fca-dd2b-4650-9781-c08981791496",
   "metadata": {},
   "outputs": [
    {
     "data": {
      "text/plain": [
       "1"
      ]
     },
     "execution_count": 4,
     "metadata": {},
     "output_type": "execute_result"
    }
   ],
   "source": [
    "1"
   ]
  },
  {
   "cell_type": "code",
   "execution_count": null,
   "id": "8745dedc-7c43-463f-a141-d17c713f7a76",
   "metadata": {},
   "outputs": [],
   "source": []
  }
 ],
 "metadata": {
  "kernelspec": {
   "display_name": "Python 3",
   "language": "python",
   "name": "python3"
  },
  "language_info": {
   "codemirror_mode": {
    "name": "ipython",
    "version": 3
   },
   "file_extension": ".py",
   "mimetype": "text/x-python",
   "name": "python",
   "nbconvert_exporter": "python",
   "pygments_lexer": "ipython3",
   "version": "3.7.4"
  }
 },
 "nbformat": 4,
 "nbformat_minor": 5
}
