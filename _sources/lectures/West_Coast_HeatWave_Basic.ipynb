{
 "cells": [
  {
   "cell_type": "markdown",
   "id": "973c0145-85c4-47d6-bfc8-88e57c405fca",
   "metadata": {},
   "source": [
    "# Satellite sea surface temperatures along the West Coast of the United States \n",
    "# during the 2014–2016 northeast Pacific marine heat wave\n",
    "\n",
    "In 2016 we published a [paper](https://agupubs.onlinelibrary.wiley.com/doi/10.1002/2016GL071039) on the heat wave in the ocean off the California coast\n",
    "\n",
    "This analysis was the last time I used Matlab to process scientific data. To make Figure 1, here are the following steps:\n",
    "- Download 4 TB of data from NASA PO.DAAC data archive via FTP\n",
    "- Once downloaded, I was faced with files that were ~1 GB per day. So I wanted to pre-process the data to reduce the size.\n",
    "- I could do this with Fortran or Matlab. Matlab has a basic NetCDF reader, so I went with that.\n",
    "- Go through each day of data and subset to the West Coast Region to reduce size and save each subsetted day\n",
    "- Go through 2002-2012 and create a daily climatology and save all 365 days of the climatology\n",
    "- Go through each day of data and calculate the anomaly and save each day's anomaly\n",
    "- Go through each day of data and calculate monthly and 5-day averages.\n",
    "\n",
    "This whole process took about 1-2 month. Once the anomalies were calculated, then I could start to do analyses and explore the data.\n",
    "Below we will do this using MUR SST data on AWS Open Data Program in a few minutes using Python."
   ]
  },
  {
   "cell_type": "code",
   "execution_count": null,
   "id": "245fd7da-e60d-40e6-b11f-5841a195b7f2",
   "metadata": {},
   "outputs": [],
   "source": [
    "import warnings\n",
    "\n",
    "import cartopy.crs as ccrs\n",
    "import cartopy.feature as cfeature\n",
    "import fsspec\n",
    "import matplotlib.pyplot as plt\n",
    "import numpy as np\n",
    "import pandas as pd\n",
    "import xarray as xr\n",
    "\n",
    "warnings.simplefilter(\"ignore\")  # filter some warning messages\n",
    "xr.set_options(display_style=\"html\")  # display dataset nicely"
   ]
  },
  {
   "cell_type": "markdown",
   "id": "546ba211-c833-4b2e-9068-9cbb019a044f",
   "metadata": {},
   "source": [
    "### Set the space/time parameters\n",
    "- Region for subsetting spatially and temporally (for climatology)\n",
    "- 5 points for timeseries"
   ]
  },
  {
   "cell_type": "code",
   "execution_count": null,
   "id": "8c0d8b97-1483-4a31-a796-4284e56fb892",
   "metadata": {},
   "outputs": [],
   "source": [
    "xlat1, xlat2 = 33, 48\n",
    "xlon1, xlon2 = -132, -118\n",
    "date1, date2 = \"2002-01-01\", \"2012-12-31\"\n",
    "\n",
    "blanco = {\"name\": \"Cape Blanco\", \"lat\": 42.837, \"lon\": -124.563}\n",
    "mendo = {\"name\": \"Cape Mendocino\", \"lat\": 40.44, \"lon\": -124.408}\n",
    "newport = {\"name\": \"Newport\", \"lat\": 45, \"lon\": -124.061}\n",
    "# newport={'name':'Newport','lat':44.634,'lon':-124.061}\n",
    "mont = {\"name\": \"Monterey\", \"lat\": 36.598, \"lon\": -121.8922}\n",
    "sbarb = {\"name\": \"Santa Barbara\", \"lat\": 34.417, \"lon\": -119.700}"
   ]
  },
  {
   "cell_type": "markdown",
   "id": "77046d2f-783f-4600-8f19-e2de8eda2ab4",
   "metadata": {},
   "source": [
    "# Amazon Open Data Program [MUR SST](https://registry.opendata.aws/mur/)\n",
    "NASA JPL MUR Level 4 SST dataset in [Zarr](https://zarr.readthedocs.io/en/stable/) format.\\\n",
    "There are two version of this data:\\\n",
    "- The zarr-v1/ directory contains a zarr store chunked (6443, 100, 100) along the dimensions (time, lat, lon).\n",
    "- The zarr/ directory contains a zarr store chunked (5,1799,3600) along the dimensions (time, lat, lon).\n",
    "\n",
    "What is chunking and why does it matter? Read [this](https://www.unidata.ucar.edu/blogs/developer/en/entry/chunking_data_why_it_matters)."
   ]
  },
  {
   "cell_type": "code",
   "execution_count": null,
   "id": "4694311b-54ba-4373-87a6-302676930db2",
   "metadata": {},
   "outputs": [],
   "source": [
    "file_aws = \"https://mur-sst.s3.us-west-2.amazonaws.com/zarr-v1\"\n",
    "file_aws_time = \"https://mur-sst.s3.us-west-2.amazonaws.com/zarr\""
   ]
  },
  {
   "cell_type": "markdown",
   "id": "fe391927-a814-4093-8c86-8b79cf0ed6e5",
   "metadata": {},
   "source": [
    "## Read MUR SST chunked for space/time"
   ]
  },
  {
   "cell_type": "code",
   "execution_count": null,
   "id": "17a9bd5a-4f69-4393-8b6f-45f26573bef1",
   "metadata": {},
   "outputs": [],
   "source": [
    "%%time\n",
    "ds_sst = xr.open_zarr(file_aws, consolidated=True)\n",
    "\n",
    "ds_sst"
   ]
  },
  {
   "cell_type": "markdown",
   "id": "6adec175-cfc0-483f-b007-1d4cf9166802",
   "metadata": {},
   "source": [
    "## Read MUR SST chunked for time series analysis"
   ]
  },
  {
   "cell_type": "code",
   "execution_count": null,
   "id": "cd281f04-66ed-48e9-a8a4-b1be55a0ed3d",
   "metadata": {},
   "outputs": [],
   "source": [
    "%%time\n",
    "ds_sst_time = xr.open_zarr(file_aws_time, consolidated=True)\n",
    "\n",
    "ds_sst_time"
   ]
  },
  {
   "cell_type": "markdown",
   "id": "b03e6736-640e-43e4-be58-85a9509540d7",
   "metadata": {},
   "source": [
    "# Subset all the data to just the West Coast region\n",
    "- options are indices, .isel, or .sel"
   ]
  },
  {
   "cell_type": "code",
   "execution_count": null,
   "id": "e270a544-de7d-4cd2-afdc-56487f3d7344",
   "metadata": {},
   "outputs": [],
   "source": [
    "subset ="
   ]
  },
  {
   "cell_type": "markdown",
   "id": "6efa46b3-10d8-4bd6-b939-b765383abd74",
   "metadata": {},
   "source": [
    "# Just plot a random day to make sure it looks correct\n",
    "- options are .plot or plt.imshow or plt.pcolormesh"
   ]
  },
  {
   "cell_type": "code",
   "execution_count": null,
   "id": "f5c786f1-e0b2-473a-a4e4-07a764a84abd",
   "metadata": {},
   "outputs": [],
   "source": []
  },
  {
   "cell_type": "markdown",
   "id": "8fdea057-4841-4e52-903f-ca3edaeba7d9",
   "metadata": {},
   "source": [
    "# Make the map look nice & use cartopy features"
   ]
  },
  {
   "cell_type": "code",
   "execution_count": null,
   "id": "0c9183e0-6aa4-4df7-b57c-130e4c2183f8",
   "metadata": {},
   "outputs": [],
   "source": [
    "# code features from https://scitools.org.uk/cartopy/docs/v0.14/matplotlib/feature_interface.html\n",
    "crs = ccrs.PlateCarree() #set projection\n",
    "\n",
    "# Plot on a map\n",
    "ax = plt.subplot(projection=crs)\n",
    "\n",
    "subset.  #add something here, what to plot? axis? transform? \n",
    "\n",
    "ax.coastlines(\"10m\", color=\"k\")\n",
    "\n",
    "ax.add_feature(cfeature.LAND, color='grey')\n",
    "\n",
    "ax.add_feature(cfeature.STATES.with_scale('10m'))"
   ]
  },
  {
   "cell_type": "markdown",
   "id": "1f989800-b7ef-4add-884f-e48a9b28c144",
   "metadata": {},
   "source": [
    "# How big is this dataset?\n",
    "- Because xarray uses lazy loading, we have access to this entire dataset but it only loads what it needs to for calculations"
   ]
  },
  {
   "cell_type": "code",
   "execution_count": null,
   "id": "293d479e-846a-46dc-bfb2-f37dfbd4ab9f",
   "metadata": {},
   "outputs": [],
   "source": [
    "size = \n",
    "print('GB data = ',size)"
   ]
  },
  {
   "cell_type": "markdown",
   "id": "abc4b835-ae51-46d3-8218-6cded8639ffe",
   "metadata": {},
   "source": [
    "# Caluculate the Monthly Sea Surface Temperature Anomalies\n",
    "- use [.resample](https://xarray.pydata.org/en/stable/generated/xarray.Dataset.resample.html) to calculate monthly average (downsample)\n",
    "- use [.groupby](https://xarray.pydata.org/en/stable/generated/xarray.DataArray.groupby.html) to calculate climatology\n",
    "- calculate anomaly"
   ]
  },
  {
   "cell_type": "code",
   "execution_count": null,
   "id": "f90a3b5e-eaba-45e2-92a8-84c2e05e0edf",
   "metadata": {},
   "outputs": [],
   "source": [
    "#resample the data to monthly\n",
    "sst_monthly = subset.\n",
    "\n",
    "#only use part of the dataset for the climatology, then groupby and mean\n",
    "climatology_mean_monthly = sst_monthly.\n",
    "\n",
    "#calculate anomaly\n",
    "sst_anomaly_monthly = sst_monthly.\n",
    "\n",
    "sst_anomaly_monthly"
   ]
  },
  {
   "cell_type": "code",
   "execution_count": null,
   "id": "53451e5f-3d4e-46d0-9426-0e237367e600",
   "metadata": {},
   "outputs": [],
   "source": [
    "# plot 2003-03-01 using cmap='RdYlBu_r'\n",
    "sst_anomaly_monthly."
   ]
  },
  {
   "cell_type": "code",
   "execution_count": null,
   "id": "1b4a84d7-ff2c-4778-bc71-930f33fa7a7d",
   "metadata": {},
   "outputs": [],
   "source": [
    "# plot 2015-03-01 using cmap='RdYlBu_r'\n",
    "sst_anomaly_monthly."
   ]
  },
  {
   "cell_type": "markdown",
   "id": "a878b5a3-6c87-40c4-b5d2-b2a9c2d38384",
   "metadata": {},
   "source": [
    "### Make plots again, this time using cartopy land mask, coastlines, states, to look nice, use subplot a control your axes so that they appear in 1 figure"
   ]
  },
  {
   "cell_type": "code",
   "execution_count": null,
   "id": "c989d1d0-3d2a-48c0-a9a7-7581f34ad4e5",
   "metadata": {},
   "outputs": [],
   "source": []
  },
  {
   "cell_type": "markdown",
   "id": "2c4e3392-4b2d-43d9-8c0b-8e239d2b950a",
   "metadata": {},
   "source": [
    "# Figure 3\n",
    "- Switch to same data, but it is chunked differently\n",
    "- it is optimized for timeseries rather than spatial analysis"
   ]
  },
  {
   "cell_type": "code",
   "execution_count": null,
   "id": "1d6342d5-ea23-4d9c-bf39-558a89968615",
   "metadata": {},
   "outputs": [],
   "source": [
    "# change to deg C\n",
    "\n",
    "ds_sst_time[\"analysed_sst\"] = ds_sst_time[\"analysed_sst\"] - 273.15  # transform units from Kelvin to  Celsius\n",
    "\n",
    "ds_sst_time[\"analysed_sst\"].attrs[\"units\"] = \"deg C\"  # update units in metadata"
   ]
  },
  {
   "cell_type": "code",
   "execution_count": null,
   "id": "e36ead99-d456-4c59-8a1d-e8f785926f0e",
   "metadata": {},
   "outputs": [],
   "source": [
    "%%time\n",
    "#select newport lat/lon\n",
    "# using .rolling to make 30 day smoothing\n",
    "\n",
    "sst_newport_coast = ds_sst_time.analysed_sst.\n",
    "\n",
    "sst_newport_offshore = ds_sst_time.analysed_sst."
   ]
  },
  {
   "cell_type": "code",
   "execution_count": null,
   "id": "994af56c-237f-47b7-8870-b143497e5cda",
   "metadata": {},
   "outputs": [],
   "source": [
    "data = sst_newport_offshore\n",
    "ystr= 'SST$_{offshore}$ ($^\\circ$C)'\n",
    "\n",
    "# select 2002 to 2013\n",
    "# use groupby to find max/min/mean/std for day of year\n",
    "\n",
    "maxval = data.\n",
    "minval = data.\n",
    "meanval = data.\n",
    "stdval = data."
   ]
  },
  {
   "cell_type": "code",
   "execution_count": null,
   "id": "7d460bc8-97e7-47ac-ad38-901bc536bee3",
   "metadata": {},
   "outputs": [],
   "source": [
    "# make figure 3 panel"
   ]
  },
  {
   "cell_type": "code",
   "execution_count": null,
   "id": "e4761e63-f09d-491b-9521-5178224ba470",
   "metadata": {},
   "outputs": [],
   "source": []
  },
  {
   "cell_type": "markdown",
   "id": "d7e0b457-73a7-4e58-a6ac-8f397123df84",
   "metadata": {},
   "source": [
    "# Data exploration\n",
    "- The data you have is organized by time, latitude, and longitude.\n",
    "- You can look at the daily values, their anomalies, or means in time/space\n",
    "- Now, imagine you hear about a Blob of warm water from colleagues, you look at a website to see a quickview\n",
    "- Look [here](https://psl.noaa.gov/map/clim/sst.shtml)\n",
    "- There are a lot of different ways to look at data\n",
    "- How would you explore the evolution of SSTs along the West Coast during this Marine Heat Wave (MHW)?\n",
    "- Spatial maps (like figure 1) ?\n",
    "- Timeseries at points (like figure 3) ?\n",
    "- Longitude versus Time (Hovmuller Plots) at a certain latitude ?\n",
    "- Does your audience matter? Why?\n",
    "- Explore the data below and explain why you choose to explore it that way."
   ]
  },
  {
   "cell_type": "code",
   "execution_count": null,
   "id": "33f9da24-8995-4e58-9e6f-e2b939ff8d06",
   "metadata": {},
   "outputs": [],
   "source": []
  }
 ],
 "metadata": {
  "kernelspec": {
   "display_name": "Python 3 (ipykernel)",
   "language": "python",
   "name": "python3"
  },
  "language_info": {
   "codemirror_mode": {
    "name": "ipython",
    "version": 3
   },
   "file_extension": ".py",
   "mimetype": "text/x-python",
   "name": "python",
   "nbconvert_exporter": "python",
   "pygments_lexer": "ipython3",
   "version": "3.7.12"
  }
 },
 "nbformat": 4,
 "nbformat_minor": 5
}
