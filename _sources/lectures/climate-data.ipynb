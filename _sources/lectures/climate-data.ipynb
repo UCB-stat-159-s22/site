{
 "cells": [
  {
   "cell_type": "markdown",
   "id": "b89963d3-4ed7-48ce-a634-84ca826c2826",
   "metadata": {},
   "source": [
    "# Climate, oceans and data\n",
    "\n",
    "Author: [Dr. Chelle Gentemann](https://cgentemann.github.io).\n",
    "\n",
    "This notebook accompanies a lecture for Berkeley's Data 100 that covers the fundamental physical mechanisms behind global warming and analyzes CO2 and ocean temperature data.\n",
    "\n",
    "The original resides in [this github repository](https://github.com/cgentemann/d100_gentemann), this is a copy kept as part of the class materials.\n",
    "\n",
    "Copyright (c) 2021 Chelle Gentemann, [MIT Licensed](https://opensource.org/licenses/MIT)."
   ]
  },
  {
   "cell_type": "code",
   "execution_count": null,
   "id": "7cb7e2ec",
   "metadata": {},
   "outputs": [],
   "source": [
    "import matplotlib.pyplot as plt\n",
    "import numpy as np\n",
    "import pandas as pd\n",
    "\n",
    "# Small style adjustments for more readable plots\n",
    "plt.style.use(\"seaborn-whitegrid\")\n",
    "plt.rcParams[\"figure.figsize\"] = (8, 6)\n",
    "plt.rcParams[\"font.size\"] = 14"
   ]
  },
  {
   "cell_type": "markdown",
   "id": "83c5b304-9b3f-4949-a852-3d7fbf4c7afd",
   "metadata": {},
   "source": [
    "## Calculate E$_{in}$ = E$_{out}$"
   ]
  },
  {
   "cell_type": "code",
   "execution_count": null,
   "id": "5309d56b-8863-4b8f-b764-83cbcd679356",
   "metadata": {},
   "outputs": [],
   "source": [
    "# Solve for T (slide 15)\n",
    "Ω = 1372  # W/m2 incoming solar\n",
    "σ = 5.67e-8  # stephan boltzman constant W/m2/K4\n",
    "A = 0.3\n",
    "T = ((Ω * (1 - A)) / (4 * σ)) ** 0.25\n",
    "print(\"Temperature =\", \"%.2f\" % T, \"K\")"
   ]
  },
  {
   "cell_type": "markdown",
   "id": "8dec0d4d-4ddf-46a8-9660-d328afca8216",
   "metadata": {},
   "source": [
    "### calculate greenhouse effect\n",
    "- bonus points for greek letters\n",
    "- to get a sigma type '\\sigma' then hit tab"
   ]
  },
  {
   "cell_type": "code",
   "execution_count": null,
   "id": "5d5faeea",
   "metadata": {},
   "outputs": [],
   "source": [
    "# standard values\n",
    "Ω = 1372  # W/m2 incoming solar\n",
    "σ = 5.67e-8  # stephan boltzman constant W/m2/K4\n",
    "T = 288  # temperature K\n",
    "E = (T ** 4) * σ - (Ω * (1 - A)) / 4\n",
    "print(\"greenhouse effect:\", \"%.2f\" % E, \"W m-2\")"
   ]
  },
  {
   "cell_type": "markdown",
   "id": "7ee32a01-c844-4679-9c52-e8dd028e3c0a",
   "metadata": {},
   "source": [
    "## Experiment\n",
    "- Solve for the temperature, so that you can see how changes in albedo and greenhouse effect impact T"
   ]
  },
  {
   "cell_type": "code",
   "execution_count": null,
   "id": "aa54dddd",
   "metadata": {},
   "outputs": [],
   "source": [
    "# Solve for T, including the greenhouse effect\n",
    "Tnew = (((Ω * (1 - A)) / 4 + E) / σ) ** 0.25\n",
    "print(\"temperature =\", Tnew, \"K\")"
   ]
  },
  {
   "cell_type": "markdown",
   "id": "6909486e-d38a-43cb-a80a-8c7ec4b5726a",
   "metadata": {},
   "source": [
    "### calculate what a change in the greenhouse effect does to temperature\n",
    "- what if you increase E by 10%"
   ]
  },
  {
   "cell_type": "code",
   "execution_count": null,
   "id": "d6e136bb",
   "metadata": {},
   "outputs": [],
   "source": [
    "Enew = E * 1.1\n",
    "Tnew = (((Ω * (1 - 0.3)) / 4 + Enew) / σ) ** 0.25\n",
    "print(\"temperature =\", \"%.2f\" % Tnew)\n",
    "print(\n",
    "    \"10% increase in E leads to \",\n",
    "    \"%.2f\" % (Tnew - T),\n",
    "    \" degree K increase in temperature\",\n",
    ")\n",
    "print(\n",
    "    \"10% increase in E leads to \",\n",
    "    \"%.2f\" % (100 * ((Tnew - T) / T)),\n",
    "    \"% increase in temperature\",\n",
    ")"
   ]
  },
  {
   "cell_type": "code",
   "execution_count": null,
   "id": "a8f96c11",
   "metadata": {},
   "outputs": [],
   "source": [
    "# read in data and print some\n",
    "\n",
    "from pathlib import Path\n",
    "\n",
    "DATA_DIR = Path.home()/Path('shared/climate-data')\n",
    "\n",
    "monthly_2deg_path = DATA_DIR / \"era5_monthly_2deg_aws_v20210920.nc\"\n",
    "\n",
    "file = DATA_DIR / \"monthly_in_situ_co2_mlo_cleaned.csv\"\n",
    "data = pd.read_csv(file)\n",
    "data.head()"
   ]
  },
  {
   "cell_type": "code",
   "execution_count": null,
   "id": "de6d38c4",
   "metadata": {},
   "outputs": [],
   "source": [
    "# plot the CO2, note the -99 values you see above showing up in the plot\n",
    "plt.plot(data[\"fraction_date\"], data[\"c02\"]);"
   ]
  },
  {
   "cell_type": "code",
   "execution_count": null,
   "id": "a032fae7",
   "metadata": {},
   "outputs": [],
   "source": [
    "# get rid of missing values that are set to -99.99\n",
    "file = DATA_DIR / \"monthly_in_situ_co2_mlo_cleaned.csv\"\n",
    "data = pd.read_csv(file, na_values=-99.99)\n",
    "data.head()"
   ]
  },
  {
   "cell_type": "code",
   "execution_count": null,
   "id": "ac0665df-4756-4c8a-8727-b6f1cf83539d",
   "metadata": {},
   "outputs": [],
   "source": [
    "# plot the data again\n",
    "plt.plot(data[\"fraction_date\"], data[\"c02\"]);"
   ]
  },
  {
   "cell_type": "code",
   "execution_count": null,
   "id": "7d9660ec",
   "metadata": {},
   "outputs": [],
   "source": [
    "# use the CO2 in the equation given in class to calculate the greenhouse effect\n",
    "# then calculate the increase in temperature in deg C rather than K\n",
    "E = 133.26 + 0.044 * data[\"c02\"]\n",
    "# calculate new temperature\n",
    "data[\"Tnew\"] = (((Ω * (1 - 0.3)) / 4 + E) / σ) ** 0.25\n",
    "plt.plot(data[\"fraction_date\"], (data[\"Tnew\"] - 273.15) * 9 / 5 + 32)\n",
    "plt.xlabel(\"Year\"), plt.ylabel(\"Temperature (C)\");"
   ]
  },
  {
   "cell_type": "code",
   "execution_count": null,
   "id": "2ee9e0f1",
   "metadata": {},
   "outputs": [],
   "source": [
    "# explore the different data provided in the dataset, what are they?\n",
    "# can you guess from the names and explain how they were calulated?\n",
    "# can you re-calculate them? can you re-make the figure in the talk?\n",
    "plt.plot(data[\"fraction_date\"], data[\"data_filled\"], \"r.\")\n",
    "plt.plot(data[\"fraction_date\"], data[\"data_adjusted_seasonally_fit\"])\n",
    "plt.ylabel(\"CO2 fraction in dry air (ppm)\"), plt.xlabel(\"Year\");"
   ]
  },
  {
   "cell_type": "code",
   "execution_count": null,
   "id": "dd32b321",
   "metadata": {},
   "outputs": [],
   "source": [
    "# calculate the annual cycle using groupby\n",
    "annual = data.groupby(data.month).mean()\n",
    "annual.head()"
   ]
  },
  {
   "cell_type": "code",
   "execution_count": null,
   "id": "75e89711",
   "metadata": {},
   "outputs": [],
   "source": [
    "# calculate the anomaly\n",
    "anomaly = annual - annual.mean()"
   ]
  },
  {
   "cell_type": "code",
   "execution_count": null,
   "id": "5f2b116b-dd17-4beb-ae1a-736791468a93",
   "metadata": {},
   "outputs": [],
   "source": [
    "fig, ax = plt.subplots()\n",
    "\n",
    "ax.plot(\"fraction_date\", \"data_filled\", \"r.\", data=data)\n",
    "ax.plot(\"fraction_date\", \"data_adjusted_seasonally_fit\", data=data)\n",
    "ax.set_xlabel(\"Year\")\n",
    "ax.set_ylabel(\"CO2 fraction in dry air (ppm)\")\n",
    "ax.set_title(\"Monthly Mean CO2\")\n",
    "ax.grid(False)\n",
    "\n",
    "axin1 = ax.inset_axes([0.1, 0.5, 0.35, 0.35])\n",
    "axin1.plot(anomaly.c02, \"b\")\n",
    "axin1.plot(anomaly.c02, \"r.\")\n",
    "axin1.set_title(\"Seasonal Anomaly\");"
   ]
  },
  {
   "cell_type": "code",
   "execution_count": null,
   "id": "e5f2c706",
   "metadata": {},
   "outputs": [],
   "source": [
    "# reading the C02 data from the base file rather than the cleaned up one.\n",
    "file = DATA_DIR / \"monthly_in_situ_co2_mlo.csv\"\n",
    "column_names = [\n",
    "    \"year\",\n",
    "    \"month\",\n",
    "    \"date_index\",\n",
    "    \"fraction_date\",\n",
    "    \"c02\",\n",
    "    \"data_adjusted_season\",\n",
    "    \"data_fit\",\n",
    "    \"data_adjusted_seasonally_fit\",\n",
    "    \"data_filled\",\n",
    "    \"data_adjusted_seasonally_filed\",\n",
    "]\n",
    "data = pd.read_csv(file, header=0, skiprows=56, names=column_names)\n",
    "data.head()"
   ]
  },
  {
   "cell_type": "markdown",
   "id": "2cff6af2-ea0e-40c5-9c6c-eafb8c22885d",
   "metadata": {},
   "source": [
    "## using xarray to explore era5 data"
   ]
  },
  {
   "cell_type": "code",
   "execution_count": null,
   "id": "8396032f",
   "metadata": {},
   "outputs": [],
   "source": [
    "import xarray as xr\n",
    "\n",
    "ds = xr.open_dataset(DATA_DIR / \"era5_monthly_2deg_aws_v20210920.nc\")\n",
    "ds"
   ]
  },
  {
   "cell_type": "code",
   "execution_count": null,
   "id": "d16853bf",
   "metadata": {},
   "outputs": [],
   "source": [
    "ds.dims"
   ]
  },
  {
   "cell_type": "code",
   "execution_count": null,
   "id": "cb87fd71",
   "metadata": {},
   "outputs": [],
   "source": [
    "ds.coords"
   ]
  },
  {
   "cell_type": "code",
   "execution_count": null,
   "id": "710c0764",
   "metadata": {},
   "outputs": [],
   "source": [
    "# two ways to print out the data for temperature at 2m\n",
    "ds[\"air_temperature_at_2_metres\"]\n",
    "ds.air_temperature_at_2_metres"
   ]
  },
  {
   "cell_type": "code",
   "execution_count": null,
   "id": "51384d7d",
   "metadata": {},
   "outputs": [],
   "source": [
    "# different ways to access the data using index, isel, sel\n",
    "temp = ds.air_temperature_at_2_metres\n",
    "print(temp[0, 63, 119].data)\n",
    "print(temp.isel(time=0, latitude=63, longitude=119).data)\n",
    "print(temp.sel(time=\"1979-01\", latitude=37.125, longitude=238.875).data)\n",
    "print(temp.latitude[63].data)\n",
    "print(temp.longitude[119].data)"
   ]
  },
  {
   "cell_type": "markdown",
   "id": "49a30ab5-6bed-4a83-a2a6-2e3dcc6b07be",
   "metadata": {},
   "source": [
    "## .isel versus .sel\n",
    "- .isel is endpoint EXclusive\n",
    "- .sel is endpoint INclusive"
   ]
  },
  {
   "cell_type": "code",
   "execution_count": null,
   "id": "bde07f98",
   "metadata": {},
   "outputs": [],
   "source": [
    "temp = ds.air_temperature_at_2_metres\n",
    "point1 = temp.isel(time=0, latitude=63, longitude=119)\n",
    "point2 = temp.sel(time=\"1979-01\", latitude=37.125, longitude=238.875)\n",
    "area1 = temp.isel(time=0, latitude=slice(63, 65), longitude=slice(119, 125))\n",
    "area2 = temp.sel(\n",
    "    time=\"1979-01\",\n",
    "    latitude=slice(temp.latitude[63], temp.latitude[65]),\n",
    "    longitude=slice(temp.longitude[119], temp.longitude[125]),\n",
    ")"
   ]
  },
  {
   "cell_type": "code",
   "execution_count": null,
   "id": "e63546ee",
   "metadata": {},
   "outputs": [],
   "source": [
    "print(\"area1 uses isel\")\n",
    "# print(area1.dims)\n",
    "print(area1.latitude.data)\n",
    "print(area1.longitude.data)"
   ]
  },
  {
   "cell_type": "code",
   "execution_count": null,
   "id": "4d4f772b",
   "metadata": {},
   "outputs": [],
   "source": [
    "print(\"area2 uses sel\")\n",
    "# print(area2.dims)\n",
    "print(area2.latitude.data)\n",
    "print(area2.longitude.data)"
   ]
  },
  {
   "cell_type": "code",
   "execution_count": null,
   "id": "2941b58f",
   "metadata": {},
   "outputs": [],
   "source": [
    "point = ds.sel(time=\"1979-01\", latitude=37.125, longitude=238.875)\n",
    "area = ds.sel(\n",
    "    time=\"1979-01\",\n",
    "    latitude=slice(temp.latitude[63], temp.latitude[65]),\n",
    "    longitude=slice(temp.longitude[119], temp.longitude[125]),\n",
    ")"
   ]
  },
  {
   "cell_type": "code",
   "execution_count": null,
   "id": "5dbbccf5",
   "metadata": {},
   "outputs": [],
   "source": [
    "ds.air_temperature_at_2_metres.sel(time=\"1979-01\").plot();"
   ]
  },
  {
   "cell_type": "code",
   "execution_count": null,
   "id": "a885bd08",
   "metadata": {},
   "outputs": [],
   "source": [
    "ds.air_temperature_at_2_metres.sel(latitude=37.125, longitude=238.875).plot();"
   ]
  },
  {
   "cell_type": "code",
   "execution_count": null,
   "id": "45e79271",
   "metadata": {},
   "outputs": [],
   "source": [
    "# ds.air_temperature_at_2_metres.mean(\"time\").plot()\n",
    "mean_map = ds.mean(\"time\")  # takes the mean across all variables in ds\n",
    "mean_map.air_temperature_at_2_metres.plot();"
   ]
  },
  {
   "cell_type": "code",
   "execution_count": null,
   "id": "702649a8-4474-411e-bb64-87fdb697235f",
   "metadata": {},
   "outputs": [],
   "source": [
    "# calculate a map of the mean values across all time\n",
    "ave = ds.mean((\"latitude\", \"longitude\"))\n",
    "ave.air_temperature_at_2_metres.plot();"
   ]
  },
  {
   "cell_type": "code",
   "execution_count": null,
   "id": "6ae20beb-b74d-4871-90bd-b2e42086f153",
   "metadata": {},
   "outputs": [],
   "source": [
    "# calculate a map of the mean values across all time\n",
    "ave = ds.mean(\"time\")\n",
    "ave.air_temperature_at_2_metres.plot();"
   ]
  },
  {
   "cell_type": "code",
   "execution_count": null,
   "id": "2f90faf4-fea6-4d73-aa29-f8b8cfbd6071",
   "metadata": {},
   "outputs": [],
   "source": [
    "# calculate a map of the mean values across all time\n",
    "ave = ds.mean((\"latitude\", \"longitude\"))\n",
    "ave.air_temperature_at_2_metres.plot();"
   ]
  },
  {
   "cell_type": "code",
   "execution_count": null,
   "id": "052c3032-a6a8-4775-abf0-71106310c28c",
   "metadata": {},
   "outputs": [],
   "source": [
    "ave = ds.mean(keep_attrs=True)\n",
    "ave"
   ]
  },
  {
   "cell_type": "code",
   "execution_count": null,
   "id": "7bf848ed-b5ee-445f-8277-e6b025829fc1",
   "metadata": {},
   "outputs": [],
   "source": [
    "weights = np.cos(np.deg2rad(ds.latitude))\n",
    "weights.name = \"weights\"\n",
    "weights.plot();"
   ]
  },
  {
   "cell_type": "code",
   "execution_count": null,
   "id": "82a49ba8-7545-4ab4-9ac4-0299cba231df",
   "metadata": {},
   "outputs": [],
   "source": [
    "ds_weighted = ds.weighted(weights)\n",
    "weighted_mean = ds_weighted.mean()\n",
    "weighted_mean"
   ]
  },
  {
   "cell_type": "code",
   "execution_count": null,
   "id": "7ff32c49-5745-4ccd-91bc-4e1e2f767b79",
   "metadata": {},
   "outputs": [],
   "source": [
    "ds_weighted = ds.weighted(weights)\n",
    "weighted_mean = ds_weighted.mean((\"latitude\", \"longitude\"))\n",
    "weighted_mean.air_temperature_at_2_metres.plot();"
   ]
  },
  {
   "cell_type": "code",
   "execution_count": null,
   "id": "38de9743-2512-4ef2-ace7-1996f5f6c3b5",
   "metadata": {},
   "outputs": [],
   "source": [
    "# calculate the annual cycle\n",
    "annual_cycle = weighted_mean.groupby(\"time.month\").mean()\n",
    "annual_cycle.air_temperature_at_2_metres.plot();"
   ]
  },
  {
   "cell_type": "code",
   "execution_count": null,
   "id": "dea0b2da-aa1e-4100-a4b4-963e28808d51",
   "metadata": {},
   "outputs": [],
   "source": [
    "# calculate the annual cycle at a point\n",
    "weighted_trend = (\n",
    "    weighted_mean.groupby(\"time.month\") - annual_cycle + annual_cycle.mean()\n",
    ")"
   ]
  },
  {
   "cell_type": "code",
   "execution_count": null,
   "id": "0f335d09-ed1a-48ca-a381-bf44d25db091",
   "metadata": {},
   "outputs": [],
   "source": [
    "weighted_mean.air_temperature_at_2_metres.plot()\n",
    "weighted_trend.air_temperature_at_2_metres.plot();"
   ]
  },
  {
   "cell_type": "code",
   "execution_count": null,
   "id": "0f63e93b-30df-4907-be1b-957234321b81",
   "metadata": {},
   "outputs": [],
   "source": [
    "bins = np.arange(284, 291, 0.25)\n",
    "xr.plot.hist(\n",
    "    weighted_mean.air_temperature_at_2_metres.sel(time=slice(\"1980\", \"2000\")),\n",
    "    bins=bins,\n",
    "    density=True,\n",
    "    alpha=0.9,\n",
    "    color=\"b\",\n",
    ")\n",
    "xr.plot.hist(\n",
    "    weighted_mean.air_temperature_at_2_metres.sel(time=slice(\"2000\", \"2020\")),\n",
    "    bins=bins,\n",
    "    density=True,\n",
    "    alpha=0.85,\n",
    "    color=\"r\",\n",
    ")\n",
    "plt.ylabel(\"Probability Density (/K)\");"
   ]
  },
  {
   "cell_type": "code",
   "execution_count": null,
   "id": "a6122444-d527-4423-a38a-4d67fcfc7d3b",
   "metadata": {},
   "outputs": [],
   "source": [
    "pfit = ds.air_temperature_at_2_metres.polyfit(\"time\", 1)\n",
    "pfit.polyfit_coefficients[0] *= 3.154000000101e16  # go from nanosecond to year\n",
    "pfit.polyfit_coefficients[0].plot(cbar_kwargs={\"label\": \"trend deg/yr\"});"
   ]
  },
  {
   "cell_type": "code",
   "execution_count": null,
   "id": "163ea9e9-dd42-4dd5-881f-91ada55663ca",
   "metadata": {},
   "outputs": [],
   "source": [
    "np.timedelta64(1, \"Y\")\n",
    "# /np.timedelta64(1,'s').data\n",
    "pfit.polyfit_coefficients[0, 80, 10] * 3.154000000101e16"
   ]
  },
  {
   "cell_type": "code",
   "execution_count": null,
   "id": "ffc3089d-238b-41c5-b1b0-3b080e072238",
   "metadata": {},
   "outputs": [],
   "source": [
    "import cartopy.crs as ccrs\n",
    "\n",
    "p = pfit.polyfit_coefficients[0].plot(\n",
    "    subplot_kws=dict(projection=ccrs.Orthographic(0, 90), facecolor=\"gray\"),\n",
    "    transform=ccrs.PlateCarree(central_longitude=0),\n",
    "    cbar_kwargs={\"label\": \"trend deg/yr\"},\n",
    ")\n",
    "\n",
    "p.axes.coastlines();"
   ]
  },
  {
   "cell_type": "markdown",
   "id": "8cd64d0e-7310-488e-ade6-874f9eab1219",
   "metadata": {},
   "source": [
    "- Subset all variables to just the Arctic"
   ]
  },
  {
   "cell_type": "code",
   "execution_count": null,
   "id": "7dd3e29e-74c4-4d07-9c14-47d0d407467e",
   "metadata": {},
   "outputs": [],
   "source": [
    "arctic_ds_weighted = ds.sel(latitude=slice(70,90)).weighted(weights)\n",
    "arctic_weighted_mean = arctic_ds_weighted.mean((\"latitude\", \"longitude\"))\n",
    "arctic_annual_cycle = arctic_weighted_mean.groupby(\"time.month\").mean()\n",
    "arctic_weighted_trend = (\n",
    "    arctic_weighted_mean.groupby(\"time.month\") - arctic_annual_cycle + arctic_annual_cycle.mean()\n",
    ")"
   ]
  },
  {
   "cell_type": "code",
   "execution_count": null,
   "id": "1b2374ee-143f-40e8-a331-a86ebb448ab7",
   "metadata": {},
   "outputs": [],
   "source": [
    "arctic_weighted_mean.air_temperature_at_2_metres.plot()\n",
    "arctic_weighted_trend.air_temperature_at_2_metres.plot();"
   ]
  },
  {
   "cell_type": "code",
   "execution_count": null,
   "id": "853a6ff3-ea7e-43aa-afc7-e655fb6453d6",
   "metadata": {},
   "outputs": [],
   "source": [
    "def linear_trend(x, y):\n",
    "    pf = np.polyfit(x, y, 1)\n",
    "    return pf[0]\n",
    "\n",
    "x = arctic_weighted_mean.time.dt.year\n",
    "y = arctic_weighted_mean.air_temperature_at_2_metres\n",
    "arctic_trend = linear_trend(x, y)\n",
    "x = weighted_mean.time.dt.year\n",
    "y = weighted_mean.air_temperature_at_2_metres\n",
    "trend = linear_trend(x, y)\n",
    "print('linear trend: global=',trend,'arctic', arctic_trend)"
   ]
  },
  {
   "cell_type": "code",
   "execution_count": null,
   "id": "6ac309e6-1003-4397-a86f-f90ae504c2c5",
   "metadata": {},
   "outputs": [],
   "source": [
    "bins = np.arange(245, 280, 1)\n",
    "xr.plot.hist(\n",
    "    arctic_weighted_mean.air_temperature_at_2_metres.sel(time=slice(\"1980\", \"2000\")),\n",
    "    bins=bins,\n",
    "    density=True,\n",
    "    alpha=0.9,\n",
    "    color=\"b\",\n",
    ")\n",
    "xr.plot.hist(\n",
    "    arctic_weighted_mean.air_temperature_at_2_metres.sel(time=slice(\"2000\", \"2020\")),\n",
    "    bins=bins,\n",
    "    density=True,\n",
    "    alpha=0.85,\n",
    "    color=\"r\",\n",
    ")\n",
    "plt.ylabel(\"Probability Density (/K)\");"
   ]
  }
 ],
 "metadata": {
  "kernelspec": {
   "display_name": "Python 3 (ipykernel)",
   "language": "python",
   "name": "python3"
  },
  "language_info": {
   "codemirror_mode": {
    "name": "ipython",
    "version": 3
   },
   "file_extension": ".py",
   "mimetype": "text/x-python",
   "name": "python",
   "nbconvert_exporter": "python",
   "pygments_lexer": "ipython3",
   "version": "3.9.7"
  }
 },
 "nbformat": 4,
 "nbformat_minor": 5
}
