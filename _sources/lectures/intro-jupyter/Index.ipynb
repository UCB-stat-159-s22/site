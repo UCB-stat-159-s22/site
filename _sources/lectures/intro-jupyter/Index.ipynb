{
 "cells": [
  {
   "cell_type": "markdown",
   "id": "9f38873d-cb3a-4904-9dd8-08613fa18fc6",
   "metadata": {},
   "source": [
    "# An overview of Jupyter tools\n",
    "\n",
    "1. [Intro-Jupyter](01-Intro-Jupyter.ipynb)\n",
    "1. [Beyond-Plain-Python](02-Beyond-Plain-Python.ipynb)\n",
    "1. [widgets-interact](03-widgets-interact.ipynb)\n",
    "1. [Rich Output](04-Rich-Output.ipynb)\n"
   ]
  }
 ],
 "metadata": {
  "kernelspec": {
   "display_name": "Python 3 (ipykernel)",
   "language": "python",
   "name": "python3"
  },
  "language_info": {
   "codemirror_mode": {
    "name": "ipython",
    "version": 3
   },
   "file_extension": ".py",
   "mimetype": "text/x-python",
   "name": "python",
   "nbconvert_exporter": "python",
   "pygments_lexer": "ipython3",
   "version": "3.9.9"
  }
 },
 "nbformat": 4,
 "nbformat_minor": 5
}
